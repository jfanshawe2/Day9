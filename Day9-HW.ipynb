{
 "cells": [
  {
   "cell_type": "markdown",
   "id": "7e18bd76-a0b5-40db-bfe9-252e676e51bb",
   "metadata": {},
   "source": [
    "## Introduction to Data Science\n",
    "\n",
    "#### University of Redlands - DATA 101\n",
    "#### Prof: Joanna Bieri [joanna_bieri@redlands.edu](mailto:joanna_bieri@redlands.edu)\n",
    "#### [Class Website: data101.joannabieri.com](https://joannabieri.com/data101.html)\n",
    "\n",
    "---------------------------------------\n",
    "# Homework Day 9\n",
    "---------------------------------------\n",
    "\n",
    "GOALS:\n",
    "\n",
    "1. Import a messy DataFrame and fix it\n",
    "2. Try a pivot\n",
    "3. Play around with more advanced graphing and plotting\n",
    "\n",
    "----------------------------------------------------------\n",
    "\n",
    "This homework has **5 questions** and **2 exercises**.\n",
    "\n",
    "NOTE: Be kind to yourself. Working with data can be hard! Every data set is different. **Seriously** come get help! Come to lab!"
   ]
  },
  {
   "cell_type": "markdown",
   "id": "d0c422e3-32b1-452f-89a8-2586784d3957",
   "metadata": {},
   "source": [
    "## Important Information\n",
    "\n",
    "- Email: [joanna_bieri@redlands.edu](mailto:joanna_bieri@redlands.edu)\n",
    "- Office Hours: Duke 209 <a href=\"https://joannabieri.com/schedule.html\"> Click Here for Joanna's Schedule</a>\n",
    "\n",
    "\n",
    "## Announcements\n",
    "\n",
    "**Next week - Data Ethics** You should have some resources (book or 3-4 articles) about some area of data science ethics/impacts.\n",
    "\n",
    "## Day 9 Assignment - same drill.\n",
    "\n",
    "1. Make sure you can **Fork** and **Clone** the Day9 repo from [Redlands-DATA101](https://github.com/Redlands-DATA101)\n",
    "2. Open the file Day9-HW.ipynb and start doing the problems.\n",
    "    * You can do these problems as you follow along with the lecture notes and video.\n",
    "3. Get as far as you can before class.\n",
    "4. Submit what you have so far **Commit** and **Push** to Git.\n",
    "5. Take the daily check in quiz on **Canvas**.\n",
    "7. Come to class with lots of questions!"
   ]
  },
  {
   "cell_type": "code",
   "execution_count": 145,
   "id": "d0153569-41e3-4696-9b34-83ba90a0b5cf",
   "metadata": {},
   "outputs": [],
   "source": [
    "import numpy as np\n",
    "import pandas as pd\n",
    "\n",
    "import matplotlib.pyplot as plt\n",
    "import plotly.express as px\n",
    "from plotly.subplots import make_subplots\n",
    "import plotly.io as pio\n",
    "pio.renderers.defaule = 'colab'\n",
    "\n",
    "from itables import show"
   ]
  },
  {
   "cell_type": "markdown",
   "id": "21c16f48-0001-406e-acbf-d3e3ee536be2",
   "metadata": {},
   "source": [
    "## Data Science Visualization - from start to finish\n",
    "\n",
    "Today we will do a fill analysis where we will import data, do some data cleaning (recoding), and then walk through how to create a really beautiful visualization. \n",
    "\n",
    "Survey of religious traditions and income.\n",
    "\n",
    "Source: [pewforum.org/religious-landscape-study/income-distribution](https://www.pewforum.org/religious-landscape-study/income-distribution/), Retrieved 14 April, 2020\n",
    "\n",
    "This data is saved in a .xlsx file that is in the data folder that you downloaded.\n",
    "\n",
    "To use pd.read_excel() we need to download the openpyxl package:"
   ]
  },
  {
   "cell_type": "code",
   "execution_count": 147,
   "id": "4a062b2d-8c9e-4b50-9e90-14be5afa37b0",
   "metadata": {},
   "outputs": [
    {
     "name": "stdout",
     "output_type": "stream",
     "text": [
      "Channels:\n",
      " - conda-forge\n",
      " - defaults\n",
      " - anaconda\n",
      "Platform: osx-arm64\n",
      "Collecting package metadata (repodata.json): done\n",
      "Solving environment: done\n",
      "\n",
      "# All requested packages already installed.\n",
      "\n"
     ]
    }
   ],
   "source": [
    "!conda install -y openpyxl"
   ]
  },
  {
   "cell_type": "code",
   "execution_count": 39,
   "id": "e818c708-fe07-455e-b194-2b060962d799",
   "metadata": {},
   "outputs": [],
   "source": [
    "file_name = 'data/relig-income.xlsx'\n",
    "DF = pd.read_excel(file_name)"
   ]
  },
  {
   "cell_type": "code",
   "execution_count": 12,
   "id": "b78325a5-6430-43ca-992d-6f2c8eb608e7",
   "metadata": {},
   "outputs": [
    {
     "data": {
      "text/html": [
       "<table id=\"itables_d012b06f_19d3_46f2_b3b5_0aca903dac16\" class=\"display nowrap\" data-quarto-disable-processing=\"true\" style=\"table-layout:auto;width:auto;margin:auto;caption-side:bottom\">\n",
       "<thead>\n",
       "    <tr style=\"text-align: right;\">\n",
       "      \n",
       "      <th>Religious tradition</th>\n",
       "      <th>Less than $30,000</th>\n",
       "      <th>$30,000-$49,999</th>\n",
       "      <th>$50,000-$99,999</th>\n",
       "      <th>$100,000 or more</th>\n",
       "      <th>Sample Size</th>\n",
       "    </tr>\n",
       "  </thead><tbody><tr>\n",
       "<td style=\"vertical-align:middle; text-align:left\">\n",
       "<div style=\"float:left; margin-right: 10px;\">\n",
       "<a href=https://mwouts.github.io/itables/><svg class=\"main-svg\" xmlns=\"http://www.w3.org/2000/svg\" xmlns:xlink=\"http://www.w3.org/1999/xlink\"\n",
       "width=\"64\" viewBox=\"0 0 500 400\" style=\"font-family: 'Droid Sans', sans-serif;\">\n",
       "    <g style=\"fill:#d9d7fc\">\n",
       "        <path d=\"M100,400H500V357H100Z\" />\n",
       "        <path d=\"M100,300H400V257H100Z\" />\n",
       "        <path d=\"M0,200H400V157H0Z\" />\n",
       "        <path d=\"M100,100H500V57H100Z\" />\n",
       "        <path d=\"M100,350H500V307H100Z\" />\n",
       "        <path d=\"M100,250H400V207H100Z\" />\n",
       "        <path d=\"M0,150H400V107H0Z\" />\n",
       "        <path d=\"M100,50H500V7H100Z\" />\n",
       "    </g>\n",
       "    <g style=\"fill:#1a1366;stroke:#1a1366;\">\n",
       "   <rect x=\"100\" y=\"7\" width=\"400\" height=\"43\">\n",
       "    <animate\n",
       "      attributeName=\"width\"\n",
       "      values=\"0;400;0\"\n",
       "      dur=\"5s\"\n",
       "      repeatCount=\"indefinite\" />\n",
       "      <animate\n",
       "      attributeName=\"x\"\n",
       "      values=\"100;100;500\"\n",
       "      dur=\"5s\"\n",
       "      repeatCount=\"indefinite\" />\n",
       "  </rect>\n",
       "        <rect x=\"0\" y=\"107\" width=\"400\" height=\"43\">\n",
       "    <animate\n",
       "      attributeName=\"width\"\n",
       "      values=\"0;400;0\"\n",
       "      dur=\"3.5s\"\n",
       "      repeatCount=\"indefinite\" />\n",
       "    <animate\n",
       "      attributeName=\"x\"\n",
       "      values=\"0;0;400\"\n",
       "      dur=\"3.5s\"\n",
       "      repeatCount=\"indefinite\" />\n",
       "  </rect>\n",
       "        <rect x=\"100\" y=\"207\" width=\"300\" height=\"43\">\n",
       "    <animate\n",
       "      attributeName=\"width\"\n",
       "      values=\"0;300;0\"\n",
       "      dur=\"3s\"\n",
       "      repeatCount=\"indefinite\" />\n",
       "    <animate\n",
       "      attributeName=\"x\"\n",
       "      values=\"100;100;400\"\n",
       "      dur=\"3s\"\n",
       "      repeatCount=\"indefinite\" />\n",
       "  </rect>\n",
       "        <rect x=\"100\" y=\"307\" width=\"400\" height=\"43\">\n",
       "    <animate\n",
       "      attributeName=\"width\"\n",
       "      values=\"0;400;0\"\n",
       "      dur=\"4s\"\n",
       "      repeatCount=\"indefinite\" />\n",
       "      <animate\n",
       "      attributeName=\"x\"\n",
       "      values=\"100;100;500\"\n",
       "      dur=\"4s\"\n",
       "      repeatCount=\"indefinite\" />\n",
       "  </rect>\n",
       "        <g style=\"fill:transparent;stroke-width:8; stroke-linejoin:round\" rx=\"5\">\n",
       "            <g transform=\"translate(45 50) rotate(-45)\">\n",
       "                <circle r=\"33\" cx=\"0\" cy=\"0\" />\n",
       "                <rect x=\"-8\" y=\"32\" width=\"16\" height=\"30\" />\n",
       "            </g>\n",
       "\n",
       "            <g transform=\"translate(450 152)\">\n",
       "                <polyline points=\"-15,-20 -35,-20 -35,40 25,40 25,20\" />\n",
       "                <rect x=\"-15\" y=\"-40\" width=\"60\" height=\"60\" />\n",
       "            </g>\n",
       "\n",
       "            <g transform=\"translate(50 352)\">\n",
       "                <polygon points=\"-35,-5 0,-40 35,-5\" />\n",
       "                <polygon points=\"-35,10 0,45 35,10\" />\n",
       "            </g>\n",
       "\n",
       "            <g transform=\"translate(75 250)\">\n",
       "                <polyline points=\"-30,30 -60,0 -30,-30\" />\n",
       "                <polyline points=\"0,30 -30,0 0,-30\" />\n",
       "            </g>\n",
       "\n",
       "            <g transform=\"translate(425 250) rotate(180)\">\n",
       "                <polyline points=\"-30,30 -60,0 -30,-30\" />\n",
       "                <polyline points=\"0,30 -30,0 0,-30\" />\n",
       "            </g>\n",
       "        </g>\n",
       "    </g>\n",
       "</svg>\n",
       "</a>\n",
       "</div>\n",
       "<div>\n",
       "Loading ITables v2.1.4 from the internet...\n",
       "(need <a href=https://mwouts.github.io/itables/troubleshooting.html>help</a>?)</td>\n",
       "</div>\n",
       "</tr></tbody>\n",
       "\n",
       "</table>\n",
       "<link href=\"https://www.unpkg.com/dt_for_itables@2.0.11/dt_bundle.css\" rel=\"stylesheet\">\n",
       "<script type=\"module\">\n",
       "    import {DataTable, jQuery as $} from 'https://www.unpkg.com/dt_for_itables@2.0.11/dt_bundle.js';\n",
       "\n",
       "    document.querySelectorAll(\"#itables_d012b06f_19d3_46f2_b3b5_0aca903dac16:not(.dataTable)\").forEach(table => {\n",
       "        // Define the table data\n",
       "        const data = [[\"Buddhist\", 0.36, 0.18, 0.32, 0.13, 233], [\"Catholic\", 0.36, 0.19, 0.26, 0.19, 6137], [\"Evangelical Protestant\", 0.35, 0.22, 0.28, 0.14, 7462], [\"Hindu\", 0.17, 0.13, 0.34, 0.36, 172], [\"Historically Black Protestant\", 0.53, 0.22, 0.17, 0.08, 1704], [\"Jehovah's Witness\", 0.48, 0.25, 0.22, 0.04, 208], [\"Jewish\", 0.16, 0.15, 0.24, 0.44, 708], [\"Mainline Protestant\", 0.29, 0.2, 0.28, 0.23, 5208], [\"Mormon\", 0.27, 0.2, 0.33, 0.2, 594], [\"Muslim\", 0.34, 0.17, 0.29, 0.2, 205], [\"Orthodox Christian\", 0.18, 0.17, 0.36, 0.29, 155], [\"Unaffiliated (religious \\\"nones\\\")\", 0.33, 0.2, 0.26, 0.21, 6790]];\n",
       "\n",
       "        // Define the dt_args\n",
       "        let dt_args = {\"layout\": {\"topStart\": \"pageLength\", \"topEnd\": \"search\", \"bottomStart\": \"info\", \"bottomEnd\": \"paging\"}, \"order\": []};\n",
       "        dt_args[\"data\"] = data;\n",
       "\n",
       "        \n",
       "        new DataTable(table, dt_args);\n",
       "    });\n",
       "</script>\n"
      ],
      "text/plain": [
       "<IPython.core.display.HTML object>"
      ]
     },
     "metadata": {},
     "output_type": "display_data"
    }
   ],
   "source": [
    "show(DF)"
   ]
  },
  {
   "cell_type": "markdown",
   "id": "e52bac02-9991-4218-9142-5aa75c7b33fd",
   "metadata": {},
   "source": [
    "**Q1** Describe the data you see here. How many variables and observations. What are the data types? What are the units?"
   ]
  },
  {
   "cell_type": "code",
   "execution_count": 14,
   "id": "a9f263d7-cfd5-46c6-930d-af7ff79235e2",
   "metadata": {},
   "outputs": [
    {
     "data": {
      "text/plain": [
       "12"
      ]
     },
     "execution_count": 14,
     "metadata": {},
     "output_type": "execute_result"
    }
   ],
   "source": [
    "DF.shape[0]\n"
   ]
  },
  {
   "cell_type": "code",
   "execution_count": 16,
   "id": "de43cdee-fc02-4e54-b8fd-db99b895d110",
   "metadata": {},
   "outputs": [
    {
     "data": {
      "text/plain": [
       "6"
      ]
     },
     "execution_count": 16,
     "metadata": {},
     "output_type": "execute_result"
    }
   ],
   "source": [
    "DF.shape[1]"
   ]
  },
  {
   "cell_type": "code",
   "execution_count": 22,
   "id": "5397a231-89b8-4009-b0d3-0625b2859c3b",
   "metadata": {},
   "outputs": [
    {
     "data": {
      "text/plain": [
       "Religious tradition     object\n",
       "Less than $30,000      float64\n",
       "$30,000-$49,999        float64\n",
       "$50,000-$99,999        float64\n",
       "$100,000 or more       float64\n",
       "Sample Size              int64\n",
       "dtype: object"
      ]
     },
     "execution_count": 22,
     "metadata": {},
     "output_type": "execute_result"
    }
   ],
   "source": [
    "DF.dtypes"
   ]
  },
  {
   "cell_type": "markdown",
   "id": "ab893dad-26b4-4dae-bb3c-d4dafeead8e3",
   "metadata": {},
   "source": [
    "There are 6 variables and 12 observations. There is object type, float64 type meaning decimals are allowed, and int64 meaning no variables. The units are dollars for the four dollar columns, and no units for the first and last columns."
   ]
  },
  {
   "cell_type": "markdown",
   "id": "fd16d63e-87ab-4ac3-98d4-95543d5cd66f",
   "metadata": {},
   "source": [
    "**Q2** Following along with the lecture, say in words what each section of the code below does:\n",
    "\n",
    "**(Click here to answer each one)**\n",
    "\n",
    "* Section 1 - Renames two columns in the dataframe, from Religious Tradition to religion and smaple size to n. The inplace=True means the code modifies the original data frame without changing it.\n",
    "* Section 2 - This reshpaes the dataframe using melt. The varaibles religion and n stay and the remianing columns are melted into two columns, income and proportion. Also creates new data frame.\n",
    "* Section 3 - Creates new column frequency in DF_new and ultiplies porportion column by n.\n",
    "* Section 4 - This removes the dollar sign from income column.\n",
    "* Section 5 - This resets the DF_new dataframe.\n",
    "* Section 6 - Renames the \"Unaffiliated (religious \"nones\") to unaffiliated.\n",
    "* Section 7 - Replaces \"Historically Black Protestant with \"Hist. Black Protestant.\"\n",
    "* Section 8 - Replaces \"Evangelical Protestant\" to \"Ev. Protestant\"."
   ]
  },
  {
   "cell_type": "code",
   "execution_count": 41,
   "id": "e0abf6ff-b2e9-4849-b3ec-158e722acb18",
   "metadata": {},
   "outputs": [
    {
     "data": {
      "text/html": [
       "<div>\n",
       "<style scoped>\n",
       "    .dataframe tbody tr th:only-of-type {\n",
       "        vertical-align: middle;\n",
       "    }\n",
       "\n",
       "    .dataframe tbody tr th {\n",
       "        vertical-align: top;\n",
       "    }\n",
       "\n",
       "    .dataframe thead th {\n",
       "        text-align: right;\n",
       "    }\n",
       "</style>\n",
       "<table border=\"1\" class=\"dataframe\">\n",
       "  <thead>\n",
       "    <tr style=\"text-align: right;\">\n",
       "      <th></th>\n",
       "      <th>index</th>\n",
       "      <th>religion</th>\n",
       "      <th>n</th>\n",
       "      <th>income</th>\n",
       "      <th>proportion</th>\n",
       "      <th>frequency</th>\n",
       "    </tr>\n",
       "  </thead>\n",
       "  <tbody>\n",
       "    <tr>\n",
       "      <th>0</th>\n",
       "      <td>0</td>\n",
       "      <td>Buddhist</td>\n",
       "      <td>233</td>\n",
       "      <td>Less than 30,000</td>\n",
       "      <td>0.36</td>\n",
       "      <td>84.0</td>\n",
       "    </tr>\n",
       "    <tr>\n",
       "      <th>1</th>\n",
       "      <td>24</td>\n",
       "      <td>Buddhist</td>\n",
       "      <td>233</td>\n",
       "      <td>50,000-99,999</td>\n",
       "      <td>0.32</td>\n",
       "      <td>75.0</td>\n",
       "    </tr>\n",
       "    <tr>\n",
       "      <th>2</th>\n",
       "      <td>36</td>\n",
       "      <td>Buddhist</td>\n",
       "      <td>233</td>\n",
       "      <td>100,000 or more</td>\n",
       "      <td>0.13</td>\n",
       "      <td>30.0</td>\n",
       "    </tr>\n",
       "    <tr>\n",
       "      <th>3</th>\n",
       "      <td>12</td>\n",
       "      <td>Buddhist</td>\n",
       "      <td>233</td>\n",
       "      <td>30,000-49,999</td>\n",
       "      <td>0.18</td>\n",
       "      <td>42.0</td>\n",
       "    </tr>\n",
       "    <tr>\n",
       "      <th>4</th>\n",
       "      <td>1</td>\n",
       "      <td>Catholic</td>\n",
       "      <td>6137</td>\n",
       "      <td>Less than 30,000</td>\n",
       "      <td>0.36</td>\n",
       "      <td>2209.0</td>\n",
       "    </tr>\n",
       "    <tr>\n",
       "      <th>5</th>\n",
       "      <td>25</td>\n",
       "      <td>Catholic</td>\n",
       "      <td>6137</td>\n",
       "      <td>50,000-99,999</td>\n",
       "      <td>0.26</td>\n",
       "      <td>1596.0</td>\n",
       "    </tr>\n",
       "    <tr>\n",
       "      <th>6</th>\n",
       "      <td>13</td>\n",
       "      <td>Catholic</td>\n",
       "      <td>6137</td>\n",
       "      <td>30,000-49,999</td>\n",
       "      <td>0.19</td>\n",
       "      <td>1166.0</td>\n",
       "    </tr>\n",
       "    <tr>\n",
       "      <th>7</th>\n",
       "      <td>37</td>\n",
       "      <td>Catholic</td>\n",
       "      <td>6137</td>\n",
       "      <td>100,000 or more</td>\n",
       "      <td>0.19</td>\n",
       "      <td>1166.0</td>\n",
       "    </tr>\n",
       "    <tr>\n",
       "      <th>8</th>\n",
       "      <td>26</td>\n",
       "      <td>Ev. Protestant</td>\n",
       "      <td>7462</td>\n",
       "      <td>50,000-99,999</td>\n",
       "      <td>0.28</td>\n",
       "      <td>2089.0</td>\n",
       "    </tr>\n",
       "    <tr>\n",
       "      <th>9</th>\n",
       "      <td>38</td>\n",
       "      <td>Ev. Protestant</td>\n",
       "      <td>7462</td>\n",
       "      <td>100,000 or more</td>\n",
       "      <td>0.14</td>\n",
       "      <td>1045.0</td>\n",
       "    </tr>\n",
       "    <tr>\n",
       "      <th>10</th>\n",
       "      <td>14</td>\n",
       "      <td>Ev. Protestant</td>\n",
       "      <td>7462</td>\n",
       "      <td>30,000-49,999</td>\n",
       "      <td>0.22</td>\n",
       "      <td>1642.0</td>\n",
       "    </tr>\n",
       "    <tr>\n",
       "      <th>11</th>\n",
       "      <td>2</td>\n",
       "      <td>Ev. Protestant</td>\n",
       "      <td>7462</td>\n",
       "      <td>Less than 30,000</td>\n",
       "      <td>0.35</td>\n",
       "      <td>2612.0</td>\n",
       "    </tr>\n",
       "    <tr>\n",
       "      <th>12</th>\n",
       "      <td>3</td>\n",
       "      <td>Hindu</td>\n",
       "      <td>172</td>\n",
       "      <td>Less than 30,000</td>\n",
       "      <td>0.17</td>\n",
       "      <td>29.0</td>\n",
       "    </tr>\n",
       "    <tr>\n",
       "      <th>13</th>\n",
       "      <td>27</td>\n",
       "      <td>Hindu</td>\n",
       "      <td>172</td>\n",
       "      <td>50,000-99,999</td>\n",
       "      <td>0.34</td>\n",
       "      <td>58.0</td>\n",
       "    </tr>\n",
       "    <tr>\n",
       "      <th>14</th>\n",
       "      <td>15</td>\n",
       "      <td>Hindu</td>\n",
       "      <td>172</td>\n",
       "      <td>30,000-49,999</td>\n",
       "      <td>0.13</td>\n",
       "      <td>22.0</td>\n",
       "    </tr>\n",
       "    <tr>\n",
       "      <th>15</th>\n",
       "      <td>39</td>\n",
       "      <td>Hindu</td>\n",
       "      <td>172</td>\n",
       "      <td>100,000 or more</td>\n",
       "      <td>0.36</td>\n",
       "      <td>62.0</td>\n",
       "    </tr>\n",
       "    <tr>\n",
       "      <th>16</th>\n",
       "      <td>40</td>\n",
       "      <td>Hist. Black Protestant</td>\n",
       "      <td>1704</td>\n",
       "      <td>100,000 or more</td>\n",
       "      <td>0.08</td>\n",
       "      <td>136.0</td>\n",
       "    </tr>\n",
       "    <tr>\n",
       "      <th>17</th>\n",
       "      <td>4</td>\n",
       "      <td>Hist. Black Protestant</td>\n",
       "      <td>1704</td>\n",
       "      <td>Less than 30,000</td>\n",
       "      <td>0.53</td>\n",
       "      <td>903.0</td>\n",
       "    </tr>\n",
       "    <tr>\n",
       "      <th>18</th>\n",
       "      <td>28</td>\n",
       "      <td>Hist. Black Protestant</td>\n",
       "      <td>1704</td>\n",
       "      <td>50,000-99,999</td>\n",
       "      <td>0.17</td>\n",
       "      <td>290.0</td>\n",
       "    </tr>\n",
       "    <tr>\n",
       "      <th>19</th>\n",
       "      <td>16</td>\n",
       "      <td>Hist. Black Protestant</td>\n",
       "      <td>1704</td>\n",
       "      <td>30,000-49,999</td>\n",
       "      <td>0.22</td>\n",
       "      <td>375.0</td>\n",
       "    </tr>\n",
       "    <tr>\n",
       "      <th>20</th>\n",
       "      <td>17</td>\n",
       "      <td>Jehovah's Witness</td>\n",
       "      <td>208</td>\n",
       "      <td>30,000-49,999</td>\n",
       "      <td>0.25</td>\n",
       "      <td>52.0</td>\n",
       "    </tr>\n",
       "    <tr>\n",
       "      <th>21</th>\n",
       "      <td>29</td>\n",
       "      <td>Jehovah's Witness</td>\n",
       "      <td>208</td>\n",
       "      <td>50,000-99,999</td>\n",
       "      <td>0.22</td>\n",
       "      <td>46.0</td>\n",
       "    </tr>\n",
       "    <tr>\n",
       "      <th>22</th>\n",
       "      <td>41</td>\n",
       "      <td>Jehovah's Witness</td>\n",
       "      <td>208</td>\n",
       "      <td>100,000 or more</td>\n",
       "      <td>0.04</td>\n",
       "      <td>8.0</td>\n",
       "    </tr>\n",
       "    <tr>\n",
       "      <th>23</th>\n",
       "      <td>5</td>\n",
       "      <td>Jehovah's Witness</td>\n",
       "      <td>208</td>\n",
       "      <td>Less than 30,000</td>\n",
       "      <td>0.48</td>\n",
       "      <td>100.0</td>\n",
       "    </tr>\n",
       "    <tr>\n",
       "      <th>24</th>\n",
       "      <td>42</td>\n",
       "      <td>Jewish</td>\n",
       "      <td>708</td>\n",
       "      <td>100,000 or more</td>\n",
       "      <td>0.44</td>\n",
       "      <td>312.0</td>\n",
       "    </tr>\n",
       "    <tr>\n",
       "      <th>25</th>\n",
       "      <td>30</td>\n",
       "      <td>Jewish</td>\n",
       "      <td>708</td>\n",
       "      <td>50,000-99,999</td>\n",
       "      <td>0.24</td>\n",
       "      <td>170.0</td>\n",
       "    </tr>\n",
       "    <tr>\n",
       "      <th>26</th>\n",
       "      <td>6</td>\n",
       "      <td>Jewish</td>\n",
       "      <td>708</td>\n",
       "      <td>Less than 30,000</td>\n",
       "      <td>0.16</td>\n",
       "      <td>113.0</td>\n",
       "    </tr>\n",
       "    <tr>\n",
       "      <th>27</th>\n",
       "      <td>18</td>\n",
       "      <td>Jewish</td>\n",
       "      <td>708</td>\n",
       "      <td>30,000-49,999</td>\n",
       "      <td>0.15</td>\n",
       "      <td>106.0</td>\n",
       "    </tr>\n",
       "    <tr>\n",
       "      <th>28</th>\n",
       "      <td>31</td>\n",
       "      <td>Mainline Protestant</td>\n",
       "      <td>5208</td>\n",
       "      <td>50,000-99,999</td>\n",
       "      <td>0.28</td>\n",
       "      <td>1458.0</td>\n",
       "    </tr>\n",
       "    <tr>\n",
       "      <th>29</th>\n",
       "      <td>43</td>\n",
       "      <td>Mainline Protestant</td>\n",
       "      <td>5208</td>\n",
       "      <td>100,000 or more</td>\n",
       "      <td>0.23</td>\n",
       "      <td>1198.0</td>\n",
       "    </tr>\n",
       "    <tr>\n",
       "      <th>30</th>\n",
       "      <td>19</td>\n",
       "      <td>Mainline Protestant</td>\n",
       "      <td>5208</td>\n",
       "      <td>30,000-49,999</td>\n",
       "      <td>0.20</td>\n",
       "      <td>1042.0</td>\n",
       "    </tr>\n",
       "    <tr>\n",
       "      <th>31</th>\n",
       "      <td>7</td>\n",
       "      <td>Mainline Protestant</td>\n",
       "      <td>5208</td>\n",
       "      <td>Less than 30,000</td>\n",
       "      <td>0.29</td>\n",
       "      <td>1510.0</td>\n",
       "    </tr>\n",
       "    <tr>\n",
       "      <th>32</th>\n",
       "      <td>20</td>\n",
       "      <td>Mormon</td>\n",
       "      <td>594</td>\n",
       "      <td>30,000-49,999</td>\n",
       "      <td>0.20</td>\n",
       "      <td>119.0</td>\n",
       "    </tr>\n",
       "    <tr>\n",
       "      <th>33</th>\n",
       "      <td>32</td>\n",
       "      <td>Mormon</td>\n",
       "      <td>594</td>\n",
       "      <td>50,000-99,999</td>\n",
       "      <td>0.33</td>\n",
       "      <td>196.0</td>\n",
       "    </tr>\n",
       "    <tr>\n",
       "      <th>34</th>\n",
       "      <td>44</td>\n",
       "      <td>Mormon</td>\n",
       "      <td>594</td>\n",
       "      <td>100,000 or more</td>\n",
       "      <td>0.20</td>\n",
       "      <td>119.0</td>\n",
       "    </tr>\n",
       "    <tr>\n",
       "      <th>35</th>\n",
       "      <td>8</td>\n",
       "      <td>Mormon</td>\n",
       "      <td>594</td>\n",
       "      <td>Less than 30,000</td>\n",
       "      <td>0.27</td>\n",
       "      <td>160.0</td>\n",
       "    </tr>\n",
       "    <tr>\n",
       "      <th>36</th>\n",
       "      <td>33</td>\n",
       "      <td>Muslim</td>\n",
       "      <td>205</td>\n",
       "      <td>50,000-99,999</td>\n",
       "      <td>0.29</td>\n",
       "      <td>59.0</td>\n",
       "    </tr>\n",
       "    <tr>\n",
       "      <th>37</th>\n",
       "      <td>45</td>\n",
       "      <td>Muslim</td>\n",
       "      <td>205</td>\n",
       "      <td>100,000 or more</td>\n",
       "      <td>0.20</td>\n",
       "      <td>41.0</td>\n",
       "    </tr>\n",
       "    <tr>\n",
       "      <th>38</th>\n",
       "      <td>9</td>\n",
       "      <td>Muslim</td>\n",
       "      <td>205</td>\n",
       "      <td>Less than 30,000</td>\n",
       "      <td>0.34</td>\n",
       "      <td>70.0</td>\n",
       "    </tr>\n",
       "    <tr>\n",
       "      <th>39</th>\n",
       "      <td>21</td>\n",
       "      <td>Muslim</td>\n",
       "      <td>205</td>\n",
       "      <td>30,000-49,999</td>\n",
       "      <td>0.17</td>\n",
       "      <td>35.0</td>\n",
       "    </tr>\n",
       "    <tr>\n",
       "      <th>40</th>\n",
       "      <td>22</td>\n",
       "      <td>Orthodox Christian</td>\n",
       "      <td>155</td>\n",
       "      <td>30,000-49,999</td>\n",
       "      <td>0.17</td>\n",
       "      <td>26.0</td>\n",
       "    </tr>\n",
       "    <tr>\n",
       "      <th>41</th>\n",
       "      <td>34</td>\n",
       "      <td>Orthodox Christian</td>\n",
       "      <td>155</td>\n",
       "      <td>50,000-99,999</td>\n",
       "      <td>0.36</td>\n",
       "      <td>56.0</td>\n",
       "    </tr>\n",
       "    <tr>\n",
       "      <th>42</th>\n",
       "      <td>10</td>\n",
       "      <td>Orthodox Christian</td>\n",
       "      <td>155</td>\n",
       "      <td>Less than 30,000</td>\n",
       "      <td>0.18</td>\n",
       "      <td>28.0</td>\n",
       "    </tr>\n",
       "    <tr>\n",
       "      <th>43</th>\n",
       "      <td>46</td>\n",
       "      <td>Orthodox Christian</td>\n",
       "      <td>155</td>\n",
       "      <td>100,000 or more</td>\n",
       "      <td>0.29</td>\n",
       "      <td>45.0</td>\n",
       "    </tr>\n",
       "    <tr>\n",
       "      <th>44</th>\n",
       "      <td>23</td>\n",
       "      <td>Unaffiliated</td>\n",
       "      <td>6790</td>\n",
       "      <td>30,000-49,999</td>\n",
       "      <td>0.20</td>\n",
       "      <td>1358.0</td>\n",
       "    </tr>\n",
       "    <tr>\n",
       "      <th>45</th>\n",
       "      <td>11</td>\n",
       "      <td>Unaffiliated</td>\n",
       "      <td>6790</td>\n",
       "      <td>Less than 30,000</td>\n",
       "      <td>0.33</td>\n",
       "      <td>2241.0</td>\n",
       "    </tr>\n",
       "    <tr>\n",
       "      <th>46</th>\n",
       "      <td>35</td>\n",
       "      <td>Unaffiliated</td>\n",
       "      <td>6790</td>\n",
       "      <td>50,000-99,999</td>\n",
       "      <td>0.26</td>\n",
       "      <td>1765.0</td>\n",
       "    </tr>\n",
       "    <tr>\n",
       "      <th>47</th>\n",
       "      <td>47</td>\n",
       "      <td>Unaffiliated</td>\n",
       "      <td>6790</td>\n",
       "      <td>100,000 or more</td>\n",
       "      <td>0.21</td>\n",
       "      <td>1426.0</td>\n",
       "    </tr>\n",
       "  </tbody>\n",
       "</table>\n",
       "</div>"
      ],
      "text/plain": [
       "    index                religion     n            income  proportion  \\\n",
       "0       0                Buddhist   233  Less than 30,000        0.36   \n",
       "1      24                Buddhist   233     50,000-99,999        0.32   \n",
       "2      36                Buddhist   233   100,000 or more        0.13   \n",
       "3      12                Buddhist   233     30,000-49,999        0.18   \n",
       "4       1                Catholic  6137  Less than 30,000        0.36   \n",
       "5      25                Catholic  6137     50,000-99,999        0.26   \n",
       "6      13                Catholic  6137     30,000-49,999        0.19   \n",
       "7      37                Catholic  6137   100,000 or more        0.19   \n",
       "8      26          Ev. Protestant  7462     50,000-99,999        0.28   \n",
       "9      38          Ev. Protestant  7462   100,000 or more        0.14   \n",
       "10     14          Ev. Protestant  7462     30,000-49,999        0.22   \n",
       "11      2          Ev. Protestant  7462  Less than 30,000        0.35   \n",
       "12      3                   Hindu   172  Less than 30,000        0.17   \n",
       "13     27                   Hindu   172     50,000-99,999        0.34   \n",
       "14     15                   Hindu   172     30,000-49,999        0.13   \n",
       "15     39                   Hindu   172   100,000 or more        0.36   \n",
       "16     40  Hist. Black Protestant  1704   100,000 or more        0.08   \n",
       "17      4  Hist. Black Protestant  1704  Less than 30,000        0.53   \n",
       "18     28  Hist. Black Protestant  1704     50,000-99,999        0.17   \n",
       "19     16  Hist. Black Protestant  1704     30,000-49,999        0.22   \n",
       "20     17       Jehovah's Witness   208     30,000-49,999        0.25   \n",
       "21     29       Jehovah's Witness   208     50,000-99,999        0.22   \n",
       "22     41       Jehovah's Witness   208   100,000 or more        0.04   \n",
       "23      5       Jehovah's Witness   208  Less than 30,000        0.48   \n",
       "24     42                  Jewish   708   100,000 or more        0.44   \n",
       "25     30                  Jewish   708     50,000-99,999        0.24   \n",
       "26      6                  Jewish   708  Less than 30,000        0.16   \n",
       "27     18                  Jewish   708     30,000-49,999        0.15   \n",
       "28     31     Mainline Protestant  5208     50,000-99,999        0.28   \n",
       "29     43     Mainline Protestant  5208   100,000 or more        0.23   \n",
       "30     19     Mainline Protestant  5208     30,000-49,999        0.20   \n",
       "31      7     Mainline Protestant  5208  Less than 30,000        0.29   \n",
       "32     20                  Mormon   594     30,000-49,999        0.20   \n",
       "33     32                  Mormon   594     50,000-99,999        0.33   \n",
       "34     44                  Mormon   594   100,000 or more        0.20   \n",
       "35      8                  Mormon   594  Less than 30,000        0.27   \n",
       "36     33                  Muslim   205     50,000-99,999        0.29   \n",
       "37     45                  Muslim   205   100,000 or more        0.20   \n",
       "38      9                  Muslim   205  Less than 30,000        0.34   \n",
       "39     21                  Muslim   205     30,000-49,999        0.17   \n",
       "40     22      Orthodox Christian   155     30,000-49,999        0.17   \n",
       "41     34      Orthodox Christian   155     50,000-99,999        0.36   \n",
       "42     10      Orthodox Christian   155  Less than 30,000        0.18   \n",
       "43     46      Orthodox Christian   155   100,000 or more        0.29   \n",
       "44     23            Unaffiliated  6790     30,000-49,999        0.20   \n",
       "45     11            Unaffiliated  6790  Less than 30,000        0.33   \n",
       "46     35            Unaffiliated  6790     50,000-99,999        0.26   \n",
       "47     47            Unaffiliated  6790   100,000 or more        0.21   \n",
       "\n",
       "    frequency  \n",
       "0        84.0  \n",
       "1        75.0  \n",
       "2        30.0  \n",
       "3        42.0  \n",
       "4      2209.0  \n",
       "5      1596.0  \n",
       "6      1166.0  \n",
       "7      1166.0  \n",
       "8      2089.0  \n",
       "9      1045.0  \n",
       "10     1642.0  \n",
       "11     2612.0  \n",
       "12       29.0  \n",
       "13       58.0  \n",
       "14       22.0  \n",
       "15       62.0  \n",
       "16      136.0  \n",
       "17      903.0  \n",
       "18      290.0  \n",
       "19      375.0  \n",
       "20       52.0  \n",
       "21       46.0  \n",
       "22        8.0  \n",
       "23      100.0  \n",
       "24      312.0  \n",
       "25      170.0  \n",
       "26      113.0  \n",
       "27      106.0  \n",
       "28     1458.0  \n",
       "29     1198.0  \n",
       "30     1042.0  \n",
       "31     1510.0  \n",
       "32      119.0  \n",
       "33      196.0  \n",
       "34      119.0  \n",
       "35      160.0  \n",
       "36       59.0  \n",
       "37       41.0  \n",
       "38       70.0  \n",
       "39       35.0  \n",
       "40       26.0  \n",
       "41       56.0  \n",
       "42       28.0  \n",
       "43       45.0  \n",
       "44     1358.0  \n",
       "45     2241.0  \n",
       "46     1765.0  \n",
       "47     1426.0  "
      ]
     },
     "execution_count": 41,
     "metadata": {},
     "output_type": "execute_result"
    }
   ],
   "source": [
    "# Section 1\n",
    "DF.rename(columns={ 'Religious tradition':'religion' ,'Sample Size' : 'n' },inplace=True)\n",
    "# Section 2\n",
    "DF_new = pd.melt(DF, id_vars=['religion','n'], var_name='income', value_name='proportion').sort_values('religion')\n",
    "# Section 3\n",
    "DF_new['frequency']=np.round(DF_new['proportion']*DF_new['n'])\n",
    "# Section 4\n",
    "DF_new['income']=DF_new['income'].apply(lambda x: str(x).replace('$',''))\n",
    "# Section 5\n",
    "DF_new.reset_index(inplace=True)\n",
    "\n",
    "# Section 6\n",
    "name_to_change = 'Unaffiliated (religious \"nones\")'\n",
    "new_name = 'Unaffiliated'\n",
    "DF_new['religion']=DF_new['religion'].replace(name_to_change,new_name)\n",
    "\n",
    "# Section 7\n",
    "name_to_change =  'Historically Black Protestant'\n",
    "new_name = 'Hist. Black Protestant'\n",
    "DF_new['religion']=DF_new['religion'].replace(name_to_change,new_name)\n",
    "\n",
    "# Section 8\n",
    "name_to_change = 'Evangelical Protestant'\n",
    "new_name = 'Ev. Protestant'\n",
    "DF_new['religion']=DF_new['religion'].replace(name_to_change,new_name)\n",
    "\n",
    "DF_new"
   ]
  },
  {
   "cell_type": "markdown",
   "id": "37857e8f-ab26-4b41-a936-2c8d170a1875",
   "metadata": {},
   "source": [
    "## Make a Bar Plot\n"
   ]
  },
  {
   "cell_type": "markdown",
   "id": "1a1f4ae9-3ea9-4c08-bd15-0a24d9f674ef",
   "metadata": {},
   "source": [
    "## There are SO MANY CUSTOMIZATION OPTIONS!\n",
    "\n",
    "You are not expected to have all of these options memorized. You should just know that these things are possible and then look up examples for how to do fancier things. I always start simple and then add on from there.\n",
    "\n",
    "## Final Plot"
   ]
  },
  {
   "cell_type": "code",
   "execution_count": 71,
   "id": "4feea833-9437-4295-baa6-ce4a6ccae5a1",
   "metadata": {},
   "outputs": [
    {
     "data": {
      "application/vnd.plotly.v1+json": {
       "config": {
        "plotlyServerURL": "https://plot.ly"
       },
       "data": [
        {
         "alignmentgroup": "True",
         "hovertemplate": "income=Less than 30,000<br>proportion=%{x}<br>religion=%{y}<extra></extra>",
         "legendgroup": "Less than 30,000",
         "marker": {
          "color": "rgb(229, 134, 6)",
          "pattern": {
           "shape": ""
          }
         },
         "name": "Less than 30,000",
         "offsetgroup": "Less than 30,000",
         "orientation": "h",
         "showlegend": true,
         "textposition": "auto",
         "type": "bar",
         "x": [
          0.36,
          0.36,
          0.35,
          0.17,
          0.53,
          0.48,
          0.16,
          0.29,
          0.27,
          0.34,
          0.18,
          0.33
         ],
         "xaxis": "x",
         "y": [
          "Buddhist",
          "Catholic",
          "Ev. Protestant",
          "Hindu",
          "Hist. Black Protestant",
          "Jehovah's Witness",
          "Jewish",
          "Mainline Protestant",
          "Mormon",
          "Muslim",
          "Orthodox Christian",
          "Unaffiliated"
         ],
         "yaxis": "y"
        },
        {
         "alignmentgroup": "True",
         "hovertemplate": "income=30,000-49,999<br>proportion=%{x}<br>religion=%{y}<extra></extra>",
         "legendgroup": "30,000-49,999",
         "marker": {
          "color": "rgb(93, 105, 177)",
          "pattern": {
           "shape": ""
          }
         },
         "name": "30,000-49,999",
         "offsetgroup": "30,000-49,999",
         "orientation": "h",
         "showlegend": true,
         "textposition": "auto",
         "type": "bar",
         "x": [
          0.18,
          0.19,
          0.22,
          0.13,
          0.22,
          0.25,
          0.15,
          0.2,
          0.2,
          0.17,
          0.17,
          0.2
         ],
         "xaxis": "x",
         "y": [
          "Buddhist",
          "Catholic",
          "Ev. Protestant",
          "Hindu",
          "Hist. Black Protestant",
          "Jehovah's Witness",
          "Jewish",
          "Mainline Protestant",
          "Mormon",
          "Muslim",
          "Orthodox Christian",
          "Unaffiliated"
         ],
         "yaxis": "y"
        },
        {
         "alignmentgroup": "True",
         "hovertemplate": "income=50,000-99,999<br>proportion=%{x}<br>religion=%{y}<extra></extra>",
         "legendgroup": "50,000-99,999",
         "marker": {
          "color": "rgb(82, 188, 163)",
          "pattern": {
           "shape": ""
          }
         },
         "name": "50,000-99,999",
         "offsetgroup": "50,000-99,999",
         "orientation": "h",
         "showlegend": true,
         "textposition": "auto",
         "type": "bar",
         "x": [
          0.32,
          0.26,
          0.28,
          0.34,
          0.17,
          0.22,
          0.24,
          0.28,
          0.33,
          0.29,
          0.36,
          0.26
         ],
         "xaxis": "x",
         "y": [
          "Buddhist",
          "Catholic",
          "Ev. Protestant",
          "Hindu",
          "Hist. Black Protestant",
          "Jehovah's Witness",
          "Jewish",
          "Mainline Protestant",
          "Mormon",
          "Muslim",
          "Orthodox Christian",
          "Unaffiliated"
         ],
         "yaxis": "y"
        },
        {
         "alignmentgroup": "True",
         "hovertemplate": "income=100,000 or more<br>proportion=%{x}<br>religion=%{y}<extra></extra>",
         "legendgroup": "100,000 or more",
         "marker": {
          "color": "rgb(153, 201, 69)",
          "pattern": {
           "shape": ""
          }
         },
         "name": "100,000 or more",
         "offsetgroup": "100,000 or more",
         "orientation": "h",
         "showlegend": true,
         "textposition": "auto",
         "type": "bar",
         "x": [
          0.13,
          0.19,
          0.14,
          0.36,
          0.08,
          0.04,
          0.44,
          0.23,
          0.2,
          0.2,
          0.29,
          0.21
         ],
         "xaxis": "x",
         "y": [
          "Buddhist",
          "Catholic",
          "Ev. Protestant",
          "Hindu",
          "Hist. Black Protestant",
          "Jehovah's Witness",
          "Jewish",
          "Mainline Protestant",
          "Mormon",
          "Muslim",
          "Orthodox Christian",
          "Unaffiliated"
         ],
         "yaxis": "y"
        }
       ],
       "layout": {
        "autosize": false,
        "barmode": "relative",
        "font": {
         "color": "Darkblue",
         "family": "Courier New, monospace",
         "size": 16
        },
        "height": 800,
        "legend": {
         "orientation": "h",
         "title": {
          "text": "Income"
         },
         "tracegroupgap": 0,
         "x": 1.05,
         "xanchor": "right",
         "y": -0.2,
         "yanchor": "bottom"
        },
        "margin": {
         "t": 60
        },
        "template": {
         "data": {
          "bar": [
           {
            "error_x": {
             "color": "#2a3f5f"
            },
            "error_y": {
             "color": "#2a3f5f"
            },
            "marker": {
             "line": {
              "color": "white",
              "width": 0.5
             },
             "pattern": {
              "fillmode": "overlay",
              "size": 10,
              "solidity": 0.2
             }
            },
            "type": "bar"
           }
          ],
          "barpolar": [
           {
            "marker": {
             "line": {
              "color": "white",
              "width": 0.5
             },
             "pattern": {
              "fillmode": "overlay",
              "size": 10,
              "solidity": 0.2
             }
            },
            "type": "barpolar"
           }
          ],
          "carpet": [
           {
            "aaxis": {
             "endlinecolor": "#2a3f5f",
             "gridcolor": "#C8D4E3",
             "linecolor": "#C8D4E3",
             "minorgridcolor": "#C8D4E3",
             "startlinecolor": "#2a3f5f"
            },
            "baxis": {
             "endlinecolor": "#2a3f5f",
             "gridcolor": "#C8D4E3",
             "linecolor": "#C8D4E3",
             "minorgridcolor": "#C8D4E3",
             "startlinecolor": "#2a3f5f"
            },
            "type": "carpet"
           }
          ],
          "choropleth": [
           {
            "colorbar": {
             "outlinewidth": 0,
             "ticks": ""
            },
            "type": "choropleth"
           }
          ],
          "contour": [
           {
            "colorbar": {
             "outlinewidth": 0,
             "ticks": ""
            },
            "colorscale": [
             [
              0,
              "#0d0887"
             ],
             [
              0.1111111111111111,
              "#46039f"
             ],
             [
              0.2222222222222222,
              "#7201a8"
             ],
             [
              0.3333333333333333,
              "#9c179e"
             ],
             [
              0.4444444444444444,
              "#bd3786"
             ],
             [
              0.5555555555555556,
              "#d8576b"
             ],
             [
              0.6666666666666666,
              "#ed7953"
             ],
             [
              0.7777777777777778,
              "#fb9f3a"
             ],
             [
              0.8888888888888888,
              "#fdca26"
             ],
             [
              1,
              "#f0f921"
             ]
            ],
            "type": "contour"
           }
          ],
          "contourcarpet": [
           {
            "colorbar": {
             "outlinewidth": 0,
             "ticks": ""
            },
            "type": "contourcarpet"
           }
          ],
          "heatmap": [
           {
            "colorbar": {
             "outlinewidth": 0,
             "ticks": ""
            },
            "colorscale": [
             [
              0,
              "#0d0887"
             ],
             [
              0.1111111111111111,
              "#46039f"
             ],
             [
              0.2222222222222222,
              "#7201a8"
             ],
             [
              0.3333333333333333,
              "#9c179e"
             ],
             [
              0.4444444444444444,
              "#bd3786"
             ],
             [
              0.5555555555555556,
              "#d8576b"
             ],
             [
              0.6666666666666666,
              "#ed7953"
             ],
             [
              0.7777777777777778,
              "#fb9f3a"
             ],
             [
              0.8888888888888888,
              "#fdca26"
             ],
             [
              1,
              "#f0f921"
             ]
            ],
            "type": "heatmap"
           }
          ],
          "heatmapgl": [
           {
            "colorbar": {
             "outlinewidth": 0,
             "ticks": ""
            },
            "colorscale": [
             [
              0,
              "#0d0887"
             ],
             [
              0.1111111111111111,
              "#46039f"
             ],
             [
              0.2222222222222222,
              "#7201a8"
             ],
             [
              0.3333333333333333,
              "#9c179e"
             ],
             [
              0.4444444444444444,
              "#bd3786"
             ],
             [
              0.5555555555555556,
              "#d8576b"
             ],
             [
              0.6666666666666666,
              "#ed7953"
             ],
             [
              0.7777777777777778,
              "#fb9f3a"
             ],
             [
              0.8888888888888888,
              "#fdca26"
             ],
             [
              1,
              "#f0f921"
             ]
            ],
            "type": "heatmapgl"
           }
          ],
          "histogram": [
           {
            "marker": {
             "pattern": {
              "fillmode": "overlay",
              "size": 10,
              "solidity": 0.2
             }
            },
            "type": "histogram"
           }
          ],
          "histogram2d": [
           {
            "colorbar": {
             "outlinewidth": 0,
             "ticks": ""
            },
            "colorscale": [
             [
              0,
              "#0d0887"
             ],
             [
              0.1111111111111111,
              "#46039f"
             ],
             [
              0.2222222222222222,
              "#7201a8"
             ],
             [
              0.3333333333333333,
              "#9c179e"
             ],
             [
              0.4444444444444444,
              "#bd3786"
             ],
             [
              0.5555555555555556,
              "#d8576b"
             ],
             [
              0.6666666666666666,
              "#ed7953"
             ],
             [
              0.7777777777777778,
              "#fb9f3a"
             ],
             [
              0.8888888888888888,
              "#fdca26"
             ],
             [
              1,
              "#f0f921"
             ]
            ],
            "type": "histogram2d"
           }
          ],
          "histogram2dcontour": [
           {
            "colorbar": {
             "outlinewidth": 0,
             "ticks": ""
            },
            "colorscale": [
             [
              0,
              "#0d0887"
             ],
             [
              0.1111111111111111,
              "#46039f"
             ],
             [
              0.2222222222222222,
              "#7201a8"
             ],
             [
              0.3333333333333333,
              "#9c179e"
             ],
             [
              0.4444444444444444,
              "#bd3786"
             ],
             [
              0.5555555555555556,
              "#d8576b"
             ],
             [
              0.6666666666666666,
              "#ed7953"
             ],
             [
              0.7777777777777778,
              "#fb9f3a"
             ],
             [
              0.8888888888888888,
              "#fdca26"
             ],
             [
              1,
              "#f0f921"
             ]
            ],
            "type": "histogram2dcontour"
           }
          ],
          "mesh3d": [
           {
            "colorbar": {
             "outlinewidth": 0,
             "ticks": ""
            },
            "type": "mesh3d"
           }
          ],
          "parcoords": [
           {
            "line": {
             "colorbar": {
              "outlinewidth": 0,
              "ticks": ""
             }
            },
            "type": "parcoords"
           }
          ],
          "pie": [
           {
            "automargin": true,
            "type": "pie"
           }
          ],
          "scatter": [
           {
            "fillpattern": {
             "fillmode": "overlay",
             "size": 10,
             "solidity": 0.2
            },
            "type": "scatter"
           }
          ],
          "scatter3d": [
           {
            "line": {
             "colorbar": {
              "outlinewidth": 0,
              "ticks": ""
             }
            },
            "marker": {
             "colorbar": {
              "outlinewidth": 0,
              "ticks": ""
             }
            },
            "type": "scatter3d"
           }
          ],
          "scattercarpet": [
           {
            "marker": {
             "colorbar": {
              "outlinewidth": 0,
              "ticks": ""
             }
            },
            "type": "scattercarpet"
           }
          ],
          "scattergeo": [
           {
            "marker": {
             "colorbar": {
              "outlinewidth": 0,
              "ticks": ""
             }
            },
            "type": "scattergeo"
           }
          ],
          "scattergl": [
           {
            "marker": {
             "colorbar": {
              "outlinewidth": 0,
              "ticks": ""
             }
            },
            "type": "scattergl"
           }
          ],
          "scattermapbox": [
           {
            "marker": {
             "colorbar": {
              "outlinewidth": 0,
              "ticks": ""
             }
            },
            "type": "scattermapbox"
           }
          ],
          "scatterpolar": [
           {
            "marker": {
             "colorbar": {
              "outlinewidth": 0,
              "ticks": ""
             }
            },
            "type": "scatterpolar"
           }
          ],
          "scatterpolargl": [
           {
            "marker": {
             "colorbar": {
              "outlinewidth": 0,
              "ticks": ""
             }
            },
            "type": "scatterpolargl"
           }
          ],
          "scatterternary": [
           {
            "marker": {
             "colorbar": {
              "outlinewidth": 0,
              "ticks": ""
             }
            },
            "type": "scatterternary"
           }
          ],
          "surface": [
           {
            "colorbar": {
             "outlinewidth": 0,
             "ticks": ""
            },
            "colorscale": [
             [
              0,
              "#0d0887"
             ],
             [
              0.1111111111111111,
              "#46039f"
             ],
             [
              0.2222222222222222,
              "#7201a8"
             ],
             [
              0.3333333333333333,
              "#9c179e"
             ],
             [
              0.4444444444444444,
              "#bd3786"
             ],
             [
              0.5555555555555556,
              "#d8576b"
             ],
             [
              0.6666666666666666,
              "#ed7953"
             ],
             [
              0.7777777777777778,
              "#fb9f3a"
             ],
             [
              0.8888888888888888,
              "#fdca26"
             ],
             [
              1,
              "#f0f921"
             ]
            ],
            "type": "surface"
           }
          ],
          "table": [
           {
            "cells": {
             "fill": {
              "color": "#EBF0F8"
             },
             "line": {
              "color": "white"
             }
            },
            "header": {
             "fill": {
              "color": "#C8D4E3"
             },
             "line": {
              "color": "white"
             }
            },
            "type": "table"
           }
          ]
         },
         "layout": {
          "annotationdefaults": {
           "arrowcolor": "#2a3f5f",
           "arrowhead": 0,
           "arrowwidth": 1
          },
          "autotypenumbers": "strict",
          "coloraxis": {
           "colorbar": {
            "outlinewidth": 0,
            "ticks": ""
           }
          },
          "colorscale": {
           "diverging": [
            [
             0,
             "#8e0152"
            ],
            [
             0.1,
             "#c51b7d"
            ],
            [
             0.2,
             "#de77ae"
            ],
            [
             0.3,
             "#f1b6da"
            ],
            [
             0.4,
             "#fde0ef"
            ],
            [
             0.5,
             "#f7f7f7"
            ],
            [
             0.6,
             "#e6f5d0"
            ],
            [
             0.7,
             "#b8e186"
            ],
            [
             0.8,
             "#7fbc41"
            ],
            [
             0.9,
             "#4d9221"
            ],
            [
             1,
             "#276419"
            ]
           ],
           "sequential": [
            [
             0,
             "#0d0887"
            ],
            [
             0.1111111111111111,
             "#46039f"
            ],
            [
             0.2222222222222222,
             "#7201a8"
            ],
            [
             0.3333333333333333,
             "#9c179e"
            ],
            [
             0.4444444444444444,
             "#bd3786"
            ],
            [
             0.5555555555555556,
             "#d8576b"
            ],
            [
             0.6666666666666666,
             "#ed7953"
            ],
            [
             0.7777777777777778,
             "#fb9f3a"
            ],
            [
             0.8888888888888888,
             "#fdca26"
            ],
            [
             1,
             "#f0f921"
            ]
           ],
           "sequentialminus": [
            [
             0,
             "#0d0887"
            ],
            [
             0.1111111111111111,
             "#46039f"
            ],
            [
             0.2222222222222222,
             "#7201a8"
            ],
            [
             0.3333333333333333,
             "#9c179e"
            ],
            [
             0.4444444444444444,
             "#bd3786"
            ],
            [
             0.5555555555555556,
             "#d8576b"
            ],
            [
             0.6666666666666666,
             "#ed7953"
            ],
            [
             0.7777777777777778,
             "#fb9f3a"
            ],
            [
             0.8888888888888888,
             "#fdca26"
            ],
            [
             1,
             "#f0f921"
            ]
           ]
          },
          "colorway": [
           "#636efa",
           "#EF553B",
           "#00cc96",
           "#ab63fa",
           "#FFA15A",
           "#19d3f3",
           "#FF6692",
           "#B6E880",
           "#FF97FF",
           "#FECB52"
          ],
          "font": {
           "color": "#2a3f5f"
          },
          "geo": {
           "bgcolor": "white",
           "lakecolor": "white",
           "landcolor": "white",
           "showlakes": true,
           "showland": true,
           "subunitcolor": "#C8D4E3"
          },
          "hoverlabel": {
           "align": "left"
          },
          "hovermode": "closest",
          "mapbox": {
           "style": "light"
          },
          "paper_bgcolor": "white",
          "plot_bgcolor": "white",
          "polar": {
           "angularaxis": {
            "gridcolor": "#EBF0F8",
            "linecolor": "#EBF0F8",
            "ticks": ""
           },
           "bgcolor": "white",
           "radialaxis": {
            "gridcolor": "#EBF0F8",
            "linecolor": "#EBF0F8",
            "ticks": ""
           }
          },
          "scene": {
           "xaxis": {
            "backgroundcolor": "white",
            "gridcolor": "#DFE8F3",
            "gridwidth": 2,
            "linecolor": "#EBF0F8",
            "showbackground": true,
            "ticks": "",
            "zerolinecolor": "#EBF0F8"
           },
           "yaxis": {
            "backgroundcolor": "white",
            "gridcolor": "#DFE8F3",
            "gridwidth": 2,
            "linecolor": "#EBF0F8",
            "showbackground": true,
            "ticks": "",
            "zerolinecolor": "#EBF0F8"
           },
           "zaxis": {
            "backgroundcolor": "white",
            "gridcolor": "#DFE8F3",
            "gridwidth": 2,
            "linecolor": "#EBF0F8",
            "showbackground": true,
            "ticks": "",
            "zerolinecolor": "#EBF0F8"
           }
          },
          "shapedefaults": {
           "line": {
            "color": "#2a3f5f"
           }
          },
          "ternary": {
           "aaxis": {
            "gridcolor": "#DFE8F3",
            "linecolor": "#A2B1C6",
            "ticks": ""
           },
           "baxis": {
            "gridcolor": "#DFE8F3",
            "linecolor": "#A2B1C6",
            "ticks": ""
           },
           "bgcolor": "white",
           "caxis": {
            "gridcolor": "#DFE8F3",
            "linecolor": "#A2B1C6",
            "ticks": ""
           }
          },
          "title": {
           "x": 0.05
          },
          "xaxis": {
           "automargin": true,
           "gridcolor": "#EBF0F8",
           "linecolor": "#EBF0F8",
           "ticks": "",
           "title": {
            "standoff": 15
           },
           "zerolinecolor": "#EBF0F8",
           "zerolinewidth": 2
          },
          "yaxis": {
           "automargin": true,
           "gridcolor": "#EBF0F8",
           "linecolor": "#EBF0F8",
           "ticks": "",
           "title": {
            "standoff": 15
           },
           "zerolinecolor": "#EBF0F8",
           "zerolinewidth": 2
          }
         }
        },
        "title": {
         "text": "Income Distribution by religious group <br><sup>Data Source: Pew Research Center, Religious Lansdcape Study</sup>",
         "x": 0.5
        },
        "width": 1000,
        "xaxis": {
         "anchor": "y",
         "autorange": true,
         "domain": [
          0,
          1
         ],
         "range": [
          0,
          1.0526315789473684
         ],
         "title": {
          "text": "Proportion"
         },
         "type": "linear"
        },
        "yaxis": {
         "anchor": "x",
         "autorange": true,
         "categoryorder": "category descending",
         "domain": [
          0,
          1
         ],
         "range": [
          -0.5,
          11.5
         ],
         "title": {
          "text": ""
         },
         "type": "category"
        }
       }
      },
      "image/png": "[encoded data removed]",
      "text/html": [
       "<div>                            <div id=\"088ab410-f105-430a-bd72-65af2c575bf5\" class=\"plotly-graph-div\" style=\"height:800px; width:1000px;\"></div>            <script type=\"text/javascript\">                require([\"plotly\"], function(Plotly) {                    window.PLOTLYENV=window.PLOTLYENV || {};                                    if (document.getElementById(\"088ab410-f105-430a-bd72-65af2c575bf5\")) {                    Plotly.newPlot(                        \"088ab410-f105-430a-bd72-65af2c575bf5\",                        [{\"alignmentgroup\":\"True\",\"hovertemplate\":\"income=Less than 30,000\\u003cbr\\u003eproportion=%{x}\\u003cbr\\u003ereligion=%{y}\\u003cextra\\u003e\\u003c\\u002fextra\\u003e\",\"legendgroup\":\"Less than 30,000\",\"marker\":{\"color\":\"rgb(229, 134, 6)\",\"pattern\":{\"shape\":\"\"}},\"name\":\"Less than 30,000\",\"offsetgroup\":\"Less than 30,000\",\"orientation\":\"h\",\"showlegend\":true,\"textposition\":\"auto\",\"x\":[0.36,0.36,0.35,0.17,0.53,0.48,0.16,0.29,0.27,0.34,0.18,0.33],\"xaxis\":\"x\",\"y\":[\"Buddhist\",\"Catholic\",\"Ev. Protestant\",\"Hindu\",\"Hist. Black Protestant\",\"Jehovah's Witness\",\"Jewish\",\"Mainline Protestant\",\"Mormon\",\"Muslim\",\"Orthodox Christian\",\"Unaffiliated\"],\"yaxis\":\"y\",\"type\":\"bar\"},{\"alignmentgroup\":\"True\",\"hovertemplate\":\"income=30,000-49,999\\u003cbr\\u003eproportion=%{x}\\u003cbr\\u003ereligion=%{y}\\u003cextra\\u003e\\u003c\\u002fextra\\u003e\",\"legendgroup\":\"30,000-49,999\",\"marker\":{\"color\":\"rgb(93, 105, 177)\",\"pattern\":{\"shape\":\"\"}},\"name\":\"30,000-49,999\",\"offsetgroup\":\"30,000-49,999\",\"orientation\":\"h\",\"showlegend\":true,\"textposition\":\"auto\",\"x\":[0.18,0.19,0.22,0.13,0.22,0.25,0.15,0.2,0.2,0.17,0.17,0.2],\"xaxis\":\"x\",\"y\":[\"Buddhist\",\"Catholic\",\"Ev. Protestant\",\"Hindu\",\"Hist. Black Protestant\",\"Jehovah's Witness\",\"Jewish\",\"Mainline Protestant\",\"Mormon\",\"Muslim\",\"Orthodox Christian\",\"Unaffiliated\"],\"yaxis\":\"y\",\"type\":\"bar\"},{\"alignmentgroup\":\"True\",\"hovertemplate\":\"income=50,000-99,999\\u003cbr\\u003eproportion=%{x}\\u003cbr\\u003ereligion=%{y}\\u003cextra\\u003e\\u003c\\u002fextra\\u003e\",\"legendgroup\":\"50,000-99,999\",\"marker\":{\"color\":\"rgb(82, 188, 163)\",\"pattern\":{\"shape\":\"\"}},\"name\":\"50,000-99,999\",\"offsetgroup\":\"50,000-99,999\",\"orientation\":\"h\",\"showlegend\":true,\"textposition\":\"auto\",\"x\":[0.32,0.26,0.28,0.34,0.17,0.22,0.24,0.28,0.33,0.29,0.36,0.26],\"xaxis\":\"x\",\"y\":[\"Buddhist\",\"Catholic\",\"Ev. Protestant\",\"Hindu\",\"Hist. Black Protestant\",\"Jehovah's Witness\",\"Jewish\",\"Mainline Protestant\",\"Mormon\",\"Muslim\",\"Orthodox Christian\",\"Unaffiliated\"],\"yaxis\":\"y\",\"type\":\"bar\"},{\"alignmentgroup\":\"True\",\"hovertemplate\":\"income=100,000 or more\\u003cbr\\u003eproportion=%{x}\\u003cbr\\u003ereligion=%{y}\\u003cextra\\u003e\\u003c\\u002fextra\\u003e\",\"legendgroup\":\"100,000 or more\",\"marker\":{\"color\":\"rgb(153, 201, 69)\",\"pattern\":{\"shape\":\"\"}},\"name\":\"100,000 or more\",\"offsetgroup\":\"100,000 or more\",\"orientation\":\"h\",\"showlegend\":true,\"textposition\":\"auto\",\"x\":[0.13,0.19,0.14,0.36,0.08,0.04,0.44,0.23,0.2,0.2,0.29,0.21],\"xaxis\":\"x\",\"y\":[\"Buddhist\",\"Catholic\",\"Ev. Protestant\",\"Hindu\",\"Hist. Black Protestant\",\"Jehovah's Witness\",\"Jewish\",\"Mainline Protestant\",\"Mormon\",\"Muslim\",\"Orthodox Christian\",\"Unaffiliated\"],\"yaxis\":\"y\",\"type\":\"bar\"}],                        {\"template\":{\"data\":{\"barpolar\":[{\"marker\":{\"line\":{\"color\":\"white\",\"width\":0.5},\"pattern\":{\"fillmode\":\"overlay\",\"size\":10,\"solidity\":0.2}},\"type\":\"barpolar\"}],\"bar\":[{\"error_x\":{\"color\":\"#2a3f5f\"},\"error_y\":{\"color\":\"#2a3f5f\"},\"marker\":{\"line\":{\"color\":\"white\",\"width\":0.5},\"pattern\":{\"fillmode\":\"overlay\",\"size\":10,\"solidity\":0.2}},\"type\":\"bar\"}],\"carpet\":[{\"aaxis\":{\"endlinecolor\":\"#2a3f5f\",\"gridcolor\":\"#C8D4E3\",\"linecolor\":\"#C8D4E3\",\"minorgridcolor\":\"#C8D4E3\",\"startlinecolor\":\"#2a3f5f\"},\"baxis\":{\"endlinecolor\":\"#2a3f5f\",\"gridcolor\":\"#C8D4E3\",\"linecolor\":\"#C8D4E3\",\"minorgridcolor\":\"#C8D4E3\",\"startlinecolor\":\"#2a3f5f\"},\"type\":\"carpet\"}],\"choropleth\":[{\"colorbar\":{\"outlinewidth\":0,\"ticks\":\"\"},\"type\":\"choropleth\"}],\"contourcarpet\":[{\"colorbar\":{\"outlinewidth\":0,\"ticks\":\"\"},\"type\":\"contourcarpet\"}],\"contour\":[{\"colorbar\":{\"outlinewidth\":0,\"ticks\":\"\"},\"colorscale\":[[0.0,\"#0d0887\"],[0.1111111111111111,\"#46039f\"],[0.2222222222222222,\"#7201a8\"],[0.3333333333333333,\"#9c179e\"],[0.4444444444444444,\"#bd3786\"],[0.5555555555555556,\"#d8576b\"],[0.6666666666666666,\"#ed7953\"],[0.7777777777777778,\"#fb9f3a\"],[0.8888888888888888,\"#fdca26\"],[1.0,\"#f0f921\"]],\"type\":\"contour\"}],\"heatmapgl\":[{\"colorbar\":{\"outlinewidth\":0,\"ticks\":\"\"},\"colorscale\":[[0.0,\"#0d0887\"],[0.1111111111111111,\"#46039f\"],[0.2222222222222222,\"#7201a8\"],[0.3333333333333333,\"#9c179e\"],[0.4444444444444444,\"#bd3786\"],[0.5555555555555556,\"#d8576b\"],[0.6666666666666666,\"#ed7953\"],[0.7777777777777778,\"#fb9f3a\"],[0.8888888888888888,\"#fdca26\"],[1.0,\"#f0f921\"]],\"type\":\"heatmapgl\"}],\"heatmap\":[{\"colorbar\":{\"outlinewidth\":0,\"ticks\":\"\"},\"colorscale\":[[0.0,\"#0d0887\"],[0.1111111111111111,\"#46039f\"],[0.2222222222222222,\"#7201a8\"],[0.3333333333333333,\"#9c179e\"],[0.4444444444444444,\"#bd3786\"],[0.5555555555555556,\"#d8576b\"],[0.6666666666666666,\"#ed7953\"],[0.7777777777777778,\"#fb9f3a\"],[0.8888888888888888,\"#fdca26\"],[1.0,\"#f0f921\"]],\"type\":\"heatmap\"}],\"histogram2dcontour\":[{\"colorbar\":{\"outlinewidth\":0,\"ticks\":\"\"},\"colorscale\":[[0.0,\"#0d0887\"],[0.1111111111111111,\"#46039f\"],[0.2222222222222222,\"#7201a8\"],[0.3333333333333333,\"#9c179e\"],[0.4444444444444444,\"#bd3786\"],[0.5555555555555556,\"#d8576b\"],[0.6666666666666666,\"#ed7953\"],[0.7777777777777778,\"#fb9f3a\"],[0.8888888888888888,\"#fdca26\"],[1.0,\"#f0f921\"]],\"type\":\"histogram2dcontour\"}],\"histogram2d\":[{\"colorbar\":{\"outlinewidth\":0,\"ticks\":\"\"},\"colorscale\":[[0.0,\"#0d0887\"],[0.1111111111111111,\"#46039f\"],[0.2222222222222222,\"#7201a8\"],[0.3333333333333333,\"#9c179e\"],[0.4444444444444444,\"#bd3786\"],[0.5555555555555556,\"#d8576b\"],[0.6666666666666666,\"#ed7953\"],[0.7777777777777778,\"#fb9f3a\"],[0.8888888888888888,\"#fdca26\"],[1.0,\"#f0f921\"]],\"type\":\"histogram2d\"}],\"histogram\":[{\"marker\":{\"pattern\":{\"fillmode\":\"overlay\",\"size\":10,\"solidity\":0.2}},\"type\":\"histogram\"}],\"mesh3d\":[{\"colorbar\":{\"outlinewidth\":0,\"ticks\":\"\"},\"type\":\"mesh3d\"}],\"parcoords\":[{\"line\":{\"colorbar\":{\"outlinewidth\":0,\"ticks\":\"\"}},\"type\":\"parcoords\"}],\"pie\":[{\"automargin\":true,\"type\":\"pie\"}],\"scatter3d\":[{\"line\":{\"colorbar\":{\"outlinewidth\":0,\"ticks\":\"\"}},\"marker\":{\"colorbar\":{\"outlinewidth\":0,\"ticks\":\"\"}},\"type\":\"scatter3d\"}],\"scattercarpet\":[{\"marker\":{\"colorbar\":{\"outlinewidth\":0,\"ticks\":\"\"}},\"type\":\"scattercarpet\"}],\"scattergeo\":[{\"marker\":{\"colorbar\":{\"outlinewidth\":0,\"ticks\":\"\"}},\"type\":\"scattergeo\"}],\"scattergl\":[{\"marker\":{\"colorbar\":{\"outlinewidth\":0,\"ticks\":\"\"}},\"type\":\"scattergl\"}],\"scattermapbox\":[{\"marker\":{\"colorbar\":{\"outlinewidth\":0,\"ticks\":\"\"}},\"type\":\"scattermapbox\"}],\"scatterpolargl\":[{\"marker\":{\"colorbar\":{\"outlinewidth\":0,\"ticks\":\"\"}},\"type\":\"scatterpolargl\"}],\"scatterpolar\":[{\"marker\":{\"colorbar\":{\"outlinewidth\":0,\"ticks\":\"\"}},\"type\":\"scatterpolar\"}],\"scatter\":[{\"fillpattern\":{\"fillmode\":\"overlay\",\"size\":10,\"solidity\":0.2},\"type\":\"scatter\"}],\"scatterternary\":[{\"marker\":{\"colorbar\":{\"outlinewidth\":0,\"ticks\":\"\"}},\"type\":\"scatterternary\"}],\"surface\":[{\"colorbar\":{\"outlinewidth\":0,\"ticks\":\"\"},\"colorscale\":[[0.0,\"#0d0887\"],[0.1111111111111111,\"#46039f\"],[0.2222222222222222,\"#7201a8\"],[0.3333333333333333,\"#9c179e\"],[0.4444444444444444,\"#bd3786\"],[0.5555555555555556,\"#d8576b\"],[0.6666666666666666,\"#ed7953\"],[0.7777777777777778,\"#fb9f3a\"],[0.8888888888888888,\"#fdca26\"],[1.0,\"#f0f921\"]],\"type\":\"surface\"}],\"table\":[{\"cells\":{\"fill\":{\"color\":\"#EBF0F8\"},\"line\":{\"color\":\"white\"}},\"header\":{\"fill\":{\"color\":\"#C8D4E3\"},\"line\":{\"color\":\"white\"}},\"type\":\"table\"}]},\"layout\":{\"annotationdefaults\":{\"arrowcolor\":\"#2a3f5f\",\"arrowhead\":0,\"arrowwidth\":1},\"autotypenumbers\":\"strict\",\"coloraxis\":{\"colorbar\":{\"outlinewidth\":0,\"ticks\":\"\"}},\"colorscale\":{\"diverging\":[[0,\"#8e0152\"],[0.1,\"#c51b7d\"],[0.2,\"#de77ae\"],[0.3,\"#f1b6da\"],[0.4,\"#fde0ef\"],[0.5,\"#f7f7f7\"],[0.6,\"#e6f5d0\"],[0.7,\"#b8e186\"],[0.8,\"#7fbc41\"],[0.9,\"#4d9221\"],[1,\"#276419\"]],\"sequential\":[[0.0,\"#0d0887\"],[0.1111111111111111,\"#46039f\"],[0.2222222222222222,\"#7201a8\"],[0.3333333333333333,\"#9c179e\"],[0.4444444444444444,\"#bd3786\"],[0.5555555555555556,\"#d8576b\"],[0.6666666666666666,\"#ed7953\"],[0.7777777777777778,\"#fb9f3a\"],[0.8888888888888888,\"#fdca26\"],[1.0,\"#f0f921\"]],\"sequentialminus\":[[0.0,\"#0d0887\"],[0.1111111111111111,\"#46039f\"],[0.2222222222222222,\"#7201a8\"],[0.3333333333333333,\"#9c179e\"],[0.4444444444444444,\"#bd3786\"],[0.5555555555555556,\"#d8576b\"],[0.6666666666666666,\"#ed7953\"],[0.7777777777777778,\"#fb9f3a\"],[0.8888888888888888,\"#fdca26\"],[1.0,\"#f0f921\"]]},\"colorway\":[\"#636efa\",\"#EF553B\",\"#00cc96\",\"#ab63fa\",\"#FFA15A\",\"#19d3f3\",\"#FF6692\",\"#B6E880\",\"#FF97FF\",\"#FECB52\"],\"font\":{\"color\":\"#2a3f5f\"},\"geo\":{\"bgcolor\":\"white\",\"lakecolor\":\"white\",\"landcolor\":\"white\",\"showlakes\":true,\"showland\":true,\"subunitcolor\":\"#C8D4E3\"},\"hoverlabel\":{\"align\":\"left\"},\"hovermode\":\"closest\",\"mapbox\":{\"style\":\"light\"},\"paper_bgcolor\":\"white\",\"plot_bgcolor\":\"white\",\"polar\":{\"angularaxis\":{\"gridcolor\":\"#EBF0F8\",\"linecolor\":\"#EBF0F8\",\"ticks\":\"\"},\"bgcolor\":\"white\",\"radialaxis\":{\"gridcolor\":\"#EBF0F8\",\"linecolor\":\"#EBF0F8\",\"ticks\":\"\"}},\"scene\":{\"xaxis\":{\"backgroundcolor\":\"white\",\"gridcolor\":\"#DFE8F3\",\"gridwidth\":2,\"linecolor\":\"#EBF0F8\",\"showbackground\":true,\"ticks\":\"\",\"zerolinecolor\":\"#EBF0F8\"},\"yaxis\":{\"backgroundcolor\":\"white\",\"gridcolor\":\"#DFE8F3\",\"gridwidth\":2,\"linecolor\":\"#EBF0F8\",\"showbackground\":true,\"ticks\":\"\",\"zerolinecolor\":\"#EBF0F8\"},\"zaxis\":{\"backgroundcolor\":\"white\",\"gridcolor\":\"#DFE8F3\",\"gridwidth\":2,\"linecolor\":\"#EBF0F8\",\"showbackground\":true,\"ticks\":\"\",\"zerolinecolor\":\"#EBF0F8\"}},\"shapedefaults\":{\"line\":{\"color\":\"#2a3f5f\"}},\"ternary\":{\"aaxis\":{\"gridcolor\":\"#DFE8F3\",\"linecolor\":\"#A2B1C6\",\"ticks\":\"\"},\"baxis\":{\"gridcolor\":\"#DFE8F3\",\"linecolor\":\"#A2B1C6\",\"ticks\":\"\"},\"bgcolor\":\"white\",\"caxis\":{\"gridcolor\":\"#DFE8F3\",\"linecolor\":\"#A2B1C6\",\"ticks\":\"\"}},\"title\":{\"x\":0.05},\"xaxis\":{\"automargin\":true,\"gridcolor\":\"#EBF0F8\",\"linecolor\":\"#EBF0F8\",\"ticks\":\"\",\"title\":{\"standoff\":15},\"zerolinecolor\":\"#EBF0F8\",\"zerolinewidth\":2},\"yaxis\":{\"automargin\":true,\"gridcolor\":\"#EBF0F8\",\"linecolor\":\"#EBF0F8\",\"ticks\":\"\",\"title\":{\"standoff\":15},\"zerolinecolor\":\"#EBF0F8\",\"zerolinewidth\":2}}},\"xaxis\":{\"anchor\":\"y\",\"domain\":[0.0,1.0],\"title\":{\"text\":\"Proportion\"}},\"yaxis\":{\"anchor\":\"x\",\"domain\":[0.0,1.0],\"title\":{\"text\":\"\"},\"categoryorder\":\"category descending\"},\"legend\":{\"title\":{\"text\":\"Income\"},\"tracegroupgap\":0,\"orientation\":\"h\",\"yanchor\":\"bottom\",\"y\":-0.2,\"xanchor\":\"right\",\"x\":1.05},\"margin\":{\"t\":60},\"barmode\":\"relative\",\"title\":{\"text\":\"Income Distribution by religious group \\u003cbr\\u003e\\u003csup\\u003eData Source: Pew Research Center, Religious Lansdcape Study\\u003c\\u002fsup\\u003e\",\"x\":0.5},\"font\":{\"family\":\"Courier New, monospace\",\"size\":16,\"color\":\"Darkblue\"},\"autosize\":false,\"width\":1000,\"height\":800},                        {\"responsive\": true}                    ).then(function(){\n",
       "                            \n",
       "var gd = document.getElementById('088ab410-f105-430a-bd72-65af2c575bf5');\n",
       "var x = new MutationObserver(function (mutations, observer) {{\n",
       "        var display = window.getComputedStyle(gd).display;\n",
       "        if (!display || display === 'none') {{\n",
       "            console.log([gd, 'removed!']);\n",
       "            Plotly.purge(gd);\n",
       "            observer.disconnect();\n",
       "        }}\n",
       "}});\n",
       "\n",
       "// Listen for the removal of the full notebook cells\n",
       "var notebookContainer = gd.closest('#notebook-container');\n",
       "if (notebookContainer) {{\n",
       "    x.observe(notebookContainer, {childList: true});\n",
       "}}\n",
       "\n",
       "// Listen for the clearing of the current output cell\n",
       "var outputEl = gd.closest('.output');\n",
       "if (outputEl) {{\n",
       "    x.observe(outputEl, {childList: true});\n",
       "}}\n",
       "\n",
       "                        })                };                });            </script>        </div>"
      ]
     },
     "metadata": {},
     "output_type": "display_data"
    }
   ],
   "source": [
    "\n",
    "fig = px.bar(DF_new,\n",
    "             y='religion',\n",
    "             x='proportion',\n",
    "             color='income',\n",
    "             color_discrete_sequence=px.colors.qualitative.Vivid,\n",
    "             category_orders={'income' : ['Less than 30,000', '30,000-49,999', '50,000-99,999', '100,000 or more']})\n",
    "\n",
    "fig.update_layout(template=\"plotly_white\",\n",
    "                  title='Income Distribution by religious group <br><sup>Data Source: Pew Research Center, Religious Lansdcape Study</sup>',\n",
    "                  title_x=0.5,\n",
    "                  yaxis={'categoryorder': 'category descending'},\n",
    "                  xaxis_title=\"Proportion\",\n",
    "                  yaxis_title=\"\",\n",
    "                  legend_title='Income',\n",
    "                  legend={'orientation':\"h\",'yanchor':\"bottom\",'y':-0.2, 'xanchor':\"right\",'x':1.05},\n",
    "                  font={'family':\"Courier New, monospace\",'size':16,'color':\"Darkblue\"},\n",
    "                  autosize=False,\n",
    "                  width=1000,\n",
    "                  height=800)\n",
    "\n",
    "fig.show()\n"
   ]
  },
  {
   "cell_type": "code",
   "execution_count": null,
   "id": "9d3e0675-703f-4f86-998e-48f4910b0ecd",
   "metadata": {},
   "outputs": [],
   "source": []
  },
  {
   "cell_type": "markdown",
   "id": "59ea143e-4cb3-45c6-a7d7-db7623af1c0e",
   "metadata": {},
   "source": [
    "## Exercise 1\n",
    "\n",
    "Make your own version of the plot above. Here are some changes you should try:\n",
    "\n",
    "* Change the font family - some common fonts to try:\n",
    "  \n",
    "        [\"Arial\",\n",
    "        \"Balto\",\n",
    "        \"Courier New\",\n",
    "        \"Droid Sans\",\n",
    "        \"Droid Serif\",\n",
    "        \"Droid Sans Mono\",\n",
    "        \"Gravitas One\",\n",
    "        \"Old Standard TT\",\n",
    "        \"Open Sans\",\n",
    "        \"Overpass\",\n",
    "        \"PT Sans Narrow\",\n",
    "        \"Raleway\",\n",
    "        \"Times New Roman\"]\n",
    "\n",
    "* Move the legend to somewhere else.\n",
    "\n",
    "* Change the template and the color.\n",
    "\n",
    "* Advanced - look up how you can change the pattern_shape or pattern_shape_sequence. "
   ]
  },
  {
   "cell_type": "code",
   "execution_count": null,
   "id": "8a4cd5d1-44dd-4916-86b3-0c5a5d471f53",
   "metadata": {},
   "outputs": [],
   "source": []
  },
  {
   "cell_type": "code",
   "execution_count": 61,
   "id": "984770b0-ac3a-46f8-921d-378d39ea17c4",
   "metadata": {},
   "outputs": [
    {
     "data": {
      "application/vnd.plotly.v1+json": {
       "config": {
        "plotlyServerURL": "https://plot.ly"
       },
       "data": [
        {
         "alignmentgroup": "True",
         "hovertemplate": "income=Less than 30,000<br>proportion=%{x}<br>religion=%{y}<extra></extra>",
         "legendgroup": "Less than 30,000",
         "marker": {
          "color": "rgb(102, 197, 204)",
          "pattern": {
           "shape": ""
          }
         },
         "name": "Less than 30,000",
         "offsetgroup": "Less than 30,000",
         "orientation": "h",
         "showlegend": true,
         "textposition": "auto",
         "type": "bar",
         "x": [
          0.36,
          0.36,
          0.35,
          0.17,
          0.53,
          0.48,
          0.16,
          0.29,
          0.27,
          0.34,
          0.18,
          0.33
         ],
         "xaxis": "x",
         "y": [
          "Buddhist",
          "Catholic",
          "Ev. Protestant",
          "Hindu",
          "Hist. Black Protestant",
          "Jehovah's Witness",
          "Jewish",
          "Mainline Protestant",
          "Mormon",
          "Muslim",
          "Orthodox Christian",
          "Unaffiliated"
         ],
         "yaxis": "y"
        },
        {
         "alignmentgroup": "True",
         "hovertemplate": "income=30,000-49,999<br>proportion=%{x}<br>religion=%{y}<extra></extra>",
         "legendgroup": "30,000-49,999",
         "marker": {
          "color": "rgb(246, 207, 113)",
          "pattern": {
           "shape": "/"
          }
         },
         "name": "30,000-49,999",
         "offsetgroup": "30,000-49,999",
         "orientation": "h",
         "showlegend": true,
         "textposition": "auto",
         "type": "bar",
         "x": [
          0.18,
          0.19,
          0.22,
          0.13,
          0.22,
          0.25,
          0.15,
          0.2,
          0.2,
          0.17,
          0.17,
          0.2
         ],
         "xaxis": "x",
         "y": [
          "Buddhist",
          "Catholic",
          "Ev. Protestant",
          "Hindu",
          "Hist. Black Protestant",
          "Jehovah's Witness",
          "Jewish",
          "Mainline Protestant",
          "Mormon",
          "Muslim",
          "Orthodox Christian",
          "Unaffiliated"
         ],
         "yaxis": "y"
        },
        {
         "alignmentgroup": "True",
         "hovertemplate": "income=50,000-99,999<br>proportion=%{x}<br>religion=%{y}<extra></extra>",
         "legendgroup": "50,000-99,999",
         "marker": {
          "color": "rgb(248, 156, 116)",
          "pattern": {
           "shape": "\\"
          }
         },
         "name": "50,000-99,999",
         "offsetgroup": "50,000-99,999",
         "orientation": "h",
         "showlegend": true,
         "textposition": "auto",
         "type": "bar",
         "x": [
          0.32,
          0.26,
          0.28,
          0.34,
          0.17,
          0.22,
          0.24,
          0.28,
          0.33,
          0.29,
          0.36,
          0.26
         ],
         "xaxis": "x",
         "y": [
          "Buddhist",
          "Catholic",
          "Ev. Protestant",
          "Hindu",
          "Hist. Black Protestant",
          "Jehovah's Witness",
          "Jewish",
          "Mainline Protestant",
          "Mormon",
          "Muslim",
          "Orthodox Christian",
          "Unaffiliated"
         ],
         "yaxis": "y"
        },
        {
         "alignmentgroup": "True",
         "hovertemplate": "income=100,000 or more<br>proportion=%{x}<br>religion=%{y}<extra></extra>",
         "legendgroup": "100,000 or more",
         "marker": {
          "color": "rgb(220, 176, 242)",
          "pattern": {
           "shape": "x"
          }
         },
         "name": "100,000 or more",
         "offsetgroup": "100,000 or more",
         "orientation": "h",
         "showlegend": true,
         "textposition": "auto",
         "type": "bar",
         "x": [
          0.13,
          0.19,
          0.14,
          0.36,
          0.08,
          0.04,
          0.44,
          0.23,
          0.2,
          0.2,
          0.29,
          0.21
         ],
         "xaxis": "x",
         "y": [
          "Buddhist",
          "Catholic",
          "Ev. Protestant",
          "Hindu",
          "Hist. Black Protestant",
          "Jehovah's Witness",
          "Jewish",
          "Mainline Protestant",
          "Mormon",
          "Muslim",
          "Orthodox Christian",
          "Unaffiliated"
         ],
         "yaxis": "y"
        }
       ],
       "layout": {
        "autosize": false,
        "barmode": "relative",
        "font": {
         "color": "Darkblue",
         "family": "Times New Roman, monospace",
         "size": 16
        },
        "height": 800,
        "legend": {
         "orientation": "h",
         "title": {
          "text": "Income"
         },
         "tracegroupgap": 0,
         "x": 1,
         "xanchor": "right",
         "y": -0.5,
         "yanchor": "bottom"
        },
        "margin": {
         "t": 60
        },
        "template": {
         "data": {
          "bar": [
           {
            "error_x": {
             "color": "rgb(51,51,51)"
            },
            "error_y": {
             "color": "rgb(51,51,51)"
            },
            "marker": {
             "line": {
              "color": "rgb(237,237,237)",
              "width": 0.5
             },
             "pattern": {
              "fillmode": "overlay",
              "size": 10,
              "solidity": 0.2
             }
            },
            "type": "bar"
           }
          ],
          "barpolar": [
           {
            "marker": {
             "line": {
              "color": "rgb(237,237,237)",
              "width": 0.5
             },
             "pattern": {
              "fillmode": "overlay",
              "size": 10,
              "solidity": 0.2
             }
            },
            "type": "barpolar"
           }
          ],
          "carpet": [
           {
            "aaxis": {
             "endlinecolor": "rgb(51,51,51)",
             "gridcolor": "white",
             "linecolor": "white",
             "minorgridcolor": "white",
             "startlinecolor": "rgb(51,51,51)"
            },
            "baxis": {
             "endlinecolor": "rgb(51,51,51)",
             "gridcolor": "white",
             "linecolor": "white",
             "minorgridcolor": "white",
             "startlinecolor": "rgb(51,51,51)"
            },
            "type": "carpet"
           }
          ],
          "choropleth": [
           {
            "colorbar": {
             "outlinewidth": 0,
             "tickcolor": "rgb(237,237,237)",
             "ticklen": 6,
             "ticks": "inside"
            },
            "type": "choropleth"
           }
          ],
          "contour": [
           {
            "colorbar": {
             "outlinewidth": 0,
             "tickcolor": "rgb(237,237,237)",
             "ticklen": 6,
             "ticks": "inside"
            },
            "colorscale": [
             [
              0,
              "rgb(20,44,66)"
             ],
             [
              1,
              "rgb(90,179,244)"
             ]
            ],
            "type": "contour"
           }
          ],
          "contourcarpet": [
           {
            "colorbar": {
             "outlinewidth": 0,
             "tickcolor": "rgb(237,237,237)",
             "ticklen": 6,
             "ticks": "inside"
            },
            "type": "contourcarpet"
           }
          ],
          "heatmap": [
           {
            "colorbar": {
             "outlinewidth": 0,
             "tickcolor": "rgb(237,237,237)",
             "ticklen": 6,
             "ticks": "inside"
            },
            "colorscale": [
             [
              0,
              "rgb(20,44,66)"
             ],
             [
              1,
              "rgb(90,179,244)"
             ]
            ],
            "type": "heatmap"
           }
          ],
          "heatmapgl": [
           {
            "colorbar": {
             "outlinewidth": 0,
             "tickcolor": "rgb(237,237,237)",
             "ticklen": 6,
             "ticks": "inside"
            },
            "colorscale": [
             [
              0,
              "rgb(20,44,66)"
             ],
             [
              1,
              "rgb(90,179,244)"
             ]
            ],
            "type": "heatmapgl"
           }
          ],
          "histogram": [
           {
            "marker": {
             "pattern": {
              "fillmode": "overlay",
              "size": 10,
              "solidity": 0.2
             }
            },
            "type": "histogram"
           }
          ],
          "histogram2d": [
           {
            "colorbar": {
             "outlinewidth": 0,
             "tickcolor": "rgb(237,237,237)",
             "ticklen": 6,
             "ticks": "inside"
            },
            "colorscale": [
             [
              0,
              "rgb(20,44,66)"
             ],
             [
              1,
              "rgb(90,179,244)"
             ]
            ],
            "type": "histogram2d"
           }
          ],
          "histogram2dcontour": [
           {
            "colorbar": {
             "outlinewidth": 0,
             "tickcolor": "rgb(237,237,237)",
             "ticklen": 6,
             "ticks": "inside"
            },
            "colorscale": [
             [
              0,
              "rgb(20,44,66)"
             ],
             [
              1,
              "rgb(90,179,244)"
             ]
            ],
            "type": "histogram2dcontour"
           }
          ],
          "mesh3d": [
           {
            "colorbar": {
             "outlinewidth": 0,
             "tickcolor": "rgb(237,237,237)",
             "ticklen": 6,
             "ticks": "inside"
            },
            "type": "mesh3d"
           }
          ],
          "parcoords": [
           {
            "line": {
             "colorbar": {
              "outlinewidth": 0,
              "tickcolor": "rgb(237,237,237)",
              "ticklen": 6,
              "ticks": "inside"
             }
            },
            "type": "parcoords"
           }
          ],
          "pie": [
           {
            "automargin": true,
            "type": "pie"
           }
          ],
          "scatter": [
           {
            "fillpattern": {
             "fillmode": "overlay",
             "size": 10,
             "solidity": 0.2
            },
            "type": "scatter"
           }
          ],
          "scatter3d": [
           {
            "line": {
             "colorbar": {
              "outlinewidth": 0,
              "tickcolor": "rgb(237,237,237)",
              "ticklen": 6,
              "ticks": "inside"
             }
            },
            "marker": {
             "colorbar": {
              "outlinewidth": 0,
              "tickcolor": "rgb(237,237,237)",
              "ticklen": 6,
              "ticks": "inside"
             }
            },
            "type": "scatter3d"
           }
          ],
          "scattercarpet": [
           {
            "marker": {
             "colorbar": {
              "outlinewidth": 0,
              "tickcolor": "rgb(237,237,237)",
              "ticklen": 6,
              "ticks": "inside"
             }
            },
            "type": "scattercarpet"
           }
          ],
          "scattergeo": [
           {
            "marker": {
             "colorbar": {
              "outlinewidth": 0,
              "tickcolor": "rgb(237,237,237)",
              "ticklen": 6,
              "ticks": "inside"
             }
            },
            "type": "scattergeo"
           }
          ],
          "scattergl": [
           {
            "marker": {
             "colorbar": {
              "outlinewidth": 0,
              "tickcolor": "rgb(237,237,237)",
              "ticklen": 6,
              "ticks": "inside"
             }
            },
            "type": "scattergl"
           }
          ],
          "scattermapbox": [
           {
            "marker": {
             "colorbar": {
              "outlinewidth": 0,
              "tickcolor": "rgb(237,237,237)",
              "ticklen": 6,
              "ticks": "inside"
             }
            },
            "type": "scattermapbox"
           }
          ],
          "scatterpolar": [
           {
            "marker": {
             "colorbar": {
              "outlinewidth": 0,
              "tickcolor": "rgb(237,237,237)",
              "ticklen": 6,
              "ticks": "inside"
             }
            },
            "type": "scatterpolar"
           }
          ],
          "scatterpolargl": [
           {
            "marker": {
             "colorbar": {
              "outlinewidth": 0,
              "tickcolor": "rgb(237,237,237)",
              "ticklen": 6,
              "ticks": "inside"
             }
            },
            "type": "scatterpolargl"
           }
          ],
          "scatterternary": [
           {
            "marker": {
             "colorbar": {
              "outlinewidth": 0,
              "tickcolor": "rgb(237,237,237)",
              "ticklen": 6,
              "ticks": "inside"
             }
            },
            "type": "scatterternary"
           }
          ],
          "surface": [
           {
            "colorbar": {
             "outlinewidth": 0,
             "tickcolor": "rgb(237,237,237)",
             "ticklen": 6,
             "ticks": "inside"
            },
            "colorscale": [
             [
              0,
              "rgb(20,44,66)"
             ],
             [
              1,
              "rgb(90,179,244)"
             ]
            ],
            "type": "surface"
           }
          ],
          "table": [
           {
            "cells": {
             "fill": {
              "color": "rgb(237,237,237)"
             },
             "line": {
              "color": "white"
             }
            },
            "header": {
             "fill": {
              "color": "rgb(217,217,217)"
             },
             "line": {
              "color": "white"
             }
            },
            "type": "table"
           }
          ]
         },
         "layout": {
          "annotationdefaults": {
           "arrowhead": 0,
           "arrowwidth": 1
          },
          "autotypenumbers": "strict",
          "coloraxis": {
           "colorbar": {
            "outlinewidth": 0,
            "tickcolor": "rgb(237,237,237)",
            "ticklen": 6,
            "ticks": "inside"
           }
          },
          "colorscale": {
           "sequential": [
            [
             0,
             "rgb(20,44,66)"
            ],
            [
             1,
             "rgb(90,179,244)"
            ]
           ],
           "sequentialminus": [
            [
             0,
             "rgb(20,44,66)"
            ],
            [
             1,
             "rgb(90,179,244)"
            ]
           ]
          },
          "colorway": [
           "#F8766D",
           "#A3A500",
           "#00BF7D",
           "#00B0F6",
           "#E76BF3"
          ],
          "font": {
           "color": "rgb(51,51,51)"
          },
          "geo": {
           "bgcolor": "white",
           "lakecolor": "white",
           "landcolor": "rgb(237,237,237)",
           "showlakes": true,
           "showland": true,
           "subunitcolor": "white"
          },
          "hoverlabel": {
           "align": "left"
          },
          "hovermode": "closest",
          "paper_bgcolor": "white",
          "plot_bgcolor": "rgb(237,237,237)",
          "polar": {
           "angularaxis": {
            "gridcolor": "white",
            "linecolor": "white",
            "showgrid": true,
            "tickcolor": "rgb(51,51,51)",
            "ticks": "outside"
           },
           "bgcolor": "rgb(237,237,237)",
           "radialaxis": {
            "gridcolor": "white",
            "linecolor": "white",
            "showgrid": true,
            "tickcolor": "rgb(51,51,51)",
            "ticks": "outside"
           }
          },
          "scene": {
           "xaxis": {
            "backgroundcolor": "rgb(237,237,237)",
            "gridcolor": "white",
            "gridwidth": 2,
            "linecolor": "white",
            "showbackground": true,
            "showgrid": true,
            "tickcolor": "rgb(51,51,51)",
            "ticks": "outside",
            "zerolinecolor": "white"
           },
           "yaxis": {
            "backgroundcolor": "rgb(237,237,237)",
            "gridcolor": "white",
            "gridwidth": 2,
            "linecolor": "white",
            "showbackground": true,
            "showgrid": true,
            "tickcolor": "rgb(51,51,51)",
            "ticks": "outside",
            "zerolinecolor": "white"
           },
           "zaxis": {
            "backgroundcolor": "rgb(237,237,237)",
            "gridcolor": "white",
            "gridwidth": 2,
            "linecolor": "white",
            "showbackground": true,
            "showgrid": true,
            "tickcolor": "rgb(51,51,51)",
            "ticks": "outside",
            "zerolinecolor": "white"
           }
          },
          "shapedefaults": {
           "fillcolor": "black",
           "line": {
            "width": 0
           },
           "opacity": 0.3
          },
          "ternary": {
           "aaxis": {
            "gridcolor": "white",
            "linecolor": "white",
            "showgrid": true,
            "tickcolor": "rgb(51,51,51)",
            "ticks": "outside"
           },
           "baxis": {
            "gridcolor": "white",
            "linecolor": "white",
            "showgrid": true,
            "tickcolor": "rgb(51,51,51)",
            "ticks": "outside"
           },
           "bgcolor": "rgb(237,237,237)",
           "caxis": {
            "gridcolor": "white",
            "linecolor": "white",
            "showgrid": true,
            "tickcolor": "rgb(51,51,51)",
            "ticks": "outside"
           }
          },
          "xaxis": {
           "automargin": true,
           "gridcolor": "white",
           "linecolor": "white",
           "showgrid": true,
           "tickcolor": "rgb(51,51,51)",
           "ticks": "outside",
           "title": {
            "standoff": 15
           },
           "zerolinecolor": "white"
          },
          "yaxis": {
           "automargin": true,
           "gridcolor": "white",
           "linecolor": "white",
           "showgrid": true,
           "tickcolor": "rgb(51,51,51)",
           "ticks": "outside",
           "title": {
            "standoff": 15
           },
           "zerolinecolor": "white"
          }
         }
        },
        "title": {
         "text": "Income Distribution by religious group <br><sup>Data Source: Pew Research Center, Religious Lansdcape Study</sup>",
         "x": 0.5
        },
        "width": 1000,
        "xaxis": {
         "anchor": "y",
         "autorange": true,
         "domain": [
          0,
          1
         ],
         "range": [
          0,
          1.0526315789473684
         ],
         "title": {
          "text": "Proportion"
         },
         "type": "linear"
        },
        "yaxis": {
         "anchor": "x",
         "autorange": true,
         "categoryorder": "category descending",
         "domain": [
          0,
          1
         ],
         "range": [
          -0.5,
          11.5
         ],
         "title": {
          "text": ""
         },
         "type": "category"
        }
       }
      },
      "image/png": "[encoded data removed]",
      "text/html": [
       "<div>                            <div id=\"a4aa109a-bf0a-4b5d-94e7-e083d7bceac0\" class=\"plotly-graph-div\" style=\"height:800px; width:1000px;\"></div>            <script type=\"text/javascript\">                require([\"plotly\"], function(Plotly) {                    window.PLOTLYENV=window.PLOTLYENV || {};                                    if (document.getElementById(\"a4aa109a-bf0a-4b5d-94e7-e083d7bceac0\")) {                    Plotly.newPlot(                        \"a4aa109a-bf0a-4b5d-94e7-e083d7bceac0\",                        [{\"alignmentgroup\":\"True\",\"hovertemplate\":\"income=Less than 30,000\\u003cbr\\u003eproportion=%{x}\\u003cbr\\u003ereligion=%{y}\\u003cextra\\u003e\\u003c\\u002fextra\\u003e\",\"legendgroup\":\"Less than 30,000\",\"marker\":{\"color\":\"rgb(102, 197, 204)\",\"pattern\":{\"shape\":\"\"}},\"name\":\"Less than 30,000\",\"offsetgroup\":\"Less than 30,000\",\"orientation\":\"h\",\"showlegend\":true,\"textposition\":\"auto\",\"x\":[0.36,0.36,0.35,0.17,0.53,0.48,0.16,0.29,0.27,0.34,0.18,0.33],\"xaxis\":\"x\",\"y\":[\"Buddhist\",\"Catholic\",\"Ev. Protestant\",\"Hindu\",\"Hist. Black Protestant\",\"Jehovah's Witness\",\"Jewish\",\"Mainline Protestant\",\"Mormon\",\"Muslim\",\"Orthodox Christian\",\"Unaffiliated\"],\"yaxis\":\"y\",\"type\":\"bar\"},{\"alignmentgroup\":\"True\",\"hovertemplate\":\"income=30,000-49,999\\u003cbr\\u003eproportion=%{x}\\u003cbr\\u003ereligion=%{y}\\u003cextra\\u003e\\u003c\\u002fextra\\u003e\",\"legendgroup\":\"30,000-49,999\",\"marker\":{\"color\":\"rgb(246, 207, 113)\",\"pattern\":{\"shape\":\"\\u002f\"}},\"name\":\"30,000-49,999\",\"offsetgroup\":\"30,000-49,999\",\"orientation\":\"h\",\"showlegend\":true,\"textposition\":\"auto\",\"x\":[0.18,0.19,0.22,0.13,0.22,0.25,0.15,0.2,0.2,0.17,0.17,0.2],\"xaxis\":\"x\",\"y\":[\"Buddhist\",\"Catholic\",\"Ev. Protestant\",\"Hindu\",\"Hist. Black Protestant\",\"Jehovah's Witness\",\"Jewish\",\"Mainline Protestant\",\"Mormon\",\"Muslim\",\"Orthodox Christian\",\"Unaffiliated\"],\"yaxis\":\"y\",\"type\":\"bar\"},{\"alignmentgroup\":\"True\",\"hovertemplate\":\"income=50,000-99,999\\u003cbr\\u003eproportion=%{x}\\u003cbr\\u003ereligion=%{y}\\u003cextra\\u003e\\u003c\\u002fextra\\u003e\",\"legendgroup\":\"50,000-99,999\",\"marker\":{\"color\":\"rgb(248, 156, 116)\",\"pattern\":{\"shape\":\"\\\\\"}},\"name\":\"50,000-99,999\",\"offsetgroup\":\"50,000-99,999\",\"orientation\":\"h\",\"showlegend\":true,\"textposition\":\"auto\",\"x\":[0.32,0.26,0.28,0.34,0.17,0.22,0.24,0.28,0.33,0.29,0.36,0.26],\"xaxis\":\"x\",\"y\":[\"Buddhist\",\"Catholic\",\"Ev. Protestant\",\"Hindu\",\"Hist. Black Protestant\",\"Jehovah's Witness\",\"Jewish\",\"Mainline Protestant\",\"Mormon\",\"Muslim\",\"Orthodox Christian\",\"Unaffiliated\"],\"yaxis\":\"y\",\"type\":\"bar\"},{\"alignmentgroup\":\"True\",\"hovertemplate\":\"income=100,000 or more\\u003cbr\\u003eproportion=%{x}\\u003cbr\\u003ereligion=%{y}\\u003cextra\\u003e\\u003c\\u002fextra\\u003e\",\"legendgroup\":\"100,000 or more\",\"marker\":{\"color\":\"rgb(220, 176, 242)\",\"pattern\":{\"shape\":\"x\"}},\"name\":\"100,000 or more\",\"offsetgroup\":\"100,000 or more\",\"orientation\":\"h\",\"showlegend\":true,\"textposition\":\"auto\",\"x\":[0.13,0.19,0.14,0.36,0.08,0.04,0.44,0.23,0.2,0.2,0.29,0.21],\"xaxis\":\"x\",\"y\":[\"Buddhist\",\"Catholic\",\"Ev. Protestant\",\"Hindu\",\"Hist. Black Protestant\",\"Jehovah's Witness\",\"Jewish\",\"Mainline Protestant\",\"Mormon\",\"Muslim\",\"Orthodox Christian\",\"Unaffiliated\"],\"yaxis\":\"y\",\"type\":\"bar\"}],                        {\"template\":{\"data\":{\"barpolar\":[{\"marker\":{\"line\":{\"color\":\"rgb(237,237,237)\",\"width\":0.5},\"pattern\":{\"fillmode\":\"overlay\",\"size\":10,\"solidity\":0.2}},\"type\":\"barpolar\"}],\"bar\":[{\"error_x\":{\"color\":\"rgb(51,51,51)\"},\"error_y\":{\"color\":\"rgb(51,51,51)\"},\"marker\":{\"line\":{\"color\":\"rgb(237,237,237)\",\"width\":0.5},\"pattern\":{\"fillmode\":\"overlay\",\"size\":10,\"solidity\":0.2}},\"type\":\"bar\"}],\"carpet\":[{\"aaxis\":{\"endlinecolor\":\"rgb(51,51,51)\",\"gridcolor\":\"white\",\"linecolor\":\"white\",\"minorgridcolor\":\"white\",\"startlinecolor\":\"rgb(51,51,51)\"},\"baxis\":{\"endlinecolor\":\"rgb(51,51,51)\",\"gridcolor\":\"white\",\"linecolor\":\"white\",\"minorgridcolor\":\"white\",\"startlinecolor\":\"rgb(51,51,51)\"},\"type\":\"carpet\"}],\"choropleth\":[{\"colorbar\":{\"outlinewidth\":0,\"tickcolor\":\"rgb(237,237,237)\",\"ticklen\":6,\"ticks\":\"inside\"},\"type\":\"choropleth\"}],\"contourcarpet\":[{\"colorbar\":{\"outlinewidth\":0,\"tickcolor\":\"rgb(237,237,237)\",\"ticklen\":6,\"ticks\":\"inside\"},\"type\":\"contourcarpet\"}],\"contour\":[{\"colorbar\":{\"outlinewidth\":0,\"tickcolor\":\"rgb(237,237,237)\",\"ticklen\":6,\"ticks\":\"inside\"},\"colorscale\":[[0,\"rgb(20,44,66)\"],[1,\"rgb(90,179,244)\"]],\"type\":\"contour\"}],\"heatmapgl\":[{\"colorbar\":{\"outlinewidth\":0,\"tickcolor\":\"rgb(237,237,237)\",\"ticklen\":6,\"ticks\":\"inside\"},\"colorscale\":[[0,\"rgb(20,44,66)\"],[1,\"rgb(90,179,244)\"]],\"type\":\"heatmapgl\"}],\"heatmap\":[{\"colorbar\":{\"outlinewidth\":0,\"tickcolor\":\"rgb(237,237,237)\",\"ticklen\":6,\"ticks\":\"inside\"},\"colorscale\":[[0,\"rgb(20,44,66)\"],[1,\"rgb(90,179,244)\"]],\"type\":\"heatmap\"}],\"histogram2dcontour\":[{\"colorbar\":{\"outlinewidth\":0,\"tickcolor\":\"rgb(237,237,237)\",\"ticklen\":6,\"ticks\":\"inside\"},\"colorscale\":[[0,\"rgb(20,44,66)\"],[1,\"rgb(90,179,244)\"]],\"type\":\"histogram2dcontour\"}],\"histogram2d\":[{\"colorbar\":{\"outlinewidth\":0,\"tickcolor\":\"rgb(237,237,237)\",\"ticklen\":6,\"ticks\":\"inside\"},\"colorscale\":[[0,\"rgb(20,44,66)\"],[1,\"rgb(90,179,244)\"]],\"type\":\"histogram2d\"}],\"histogram\":[{\"marker\":{\"pattern\":{\"fillmode\":\"overlay\",\"size\":10,\"solidity\":0.2}},\"type\":\"histogram\"}],\"mesh3d\":[{\"colorbar\":{\"outlinewidth\":0,\"tickcolor\":\"rgb(237,237,237)\",\"ticklen\":6,\"ticks\":\"inside\"},\"type\":\"mesh3d\"}],\"parcoords\":[{\"line\":{\"colorbar\":{\"outlinewidth\":0,\"tickcolor\":\"rgb(237,237,237)\",\"ticklen\":6,\"ticks\":\"inside\"}},\"type\":\"parcoords\"}],\"pie\":[{\"automargin\":true,\"type\":\"pie\"}],\"scatter3d\":[{\"line\":{\"colorbar\":{\"outlinewidth\":0,\"tickcolor\":\"rgb(237,237,237)\",\"ticklen\":6,\"ticks\":\"inside\"}},\"marker\":{\"colorbar\":{\"outlinewidth\":0,\"tickcolor\":\"rgb(237,237,237)\",\"ticklen\":6,\"ticks\":\"inside\"}},\"type\":\"scatter3d\"}],\"scattercarpet\":[{\"marker\":{\"colorbar\":{\"outlinewidth\":0,\"tickcolor\":\"rgb(237,237,237)\",\"ticklen\":6,\"ticks\":\"inside\"}},\"type\":\"scattercarpet\"}],\"scattergeo\":[{\"marker\":{\"colorbar\":{\"outlinewidth\":0,\"tickcolor\":\"rgb(237,237,237)\",\"ticklen\":6,\"ticks\":\"inside\"}},\"type\":\"scattergeo\"}],\"scattergl\":[{\"marker\":{\"colorbar\":{\"outlinewidth\":0,\"tickcolor\":\"rgb(237,237,237)\",\"ticklen\":6,\"ticks\":\"inside\"}},\"type\":\"scattergl\"}],\"scattermapbox\":[{\"marker\":{\"colorbar\":{\"outlinewidth\":0,\"tickcolor\":\"rgb(237,237,237)\",\"ticklen\":6,\"ticks\":\"inside\"}},\"type\":\"scattermapbox\"}],\"scatterpolargl\":[{\"marker\":{\"colorbar\":{\"outlinewidth\":0,\"tickcolor\":\"rgb(237,237,237)\",\"ticklen\":6,\"ticks\":\"inside\"}},\"type\":\"scatterpolargl\"}],\"scatterpolar\":[{\"marker\":{\"colorbar\":{\"outlinewidth\":0,\"tickcolor\":\"rgb(237,237,237)\",\"ticklen\":6,\"ticks\":\"inside\"}},\"type\":\"scatterpolar\"}],\"scatter\":[{\"fillpattern\":{\"fillmode\":\"overlay\",\"size\":10,\"solidity\":0.2},\"type\":\"scatter\"}],\"scatterternary\":[{\"marker\":{\"colorbar\":{\"outlinewidth\":0,\"tickcolor\":\"rgb(237,237,237)\",\"ticklen\":6,\"ticks\":\"inside\"}},\"type\":\"scatterternary\"}],\"surface\":[{\"colorbar\":{\"outlinewidth\":0,\"tickcolor\":\"rgb(237,237,237)\",\"ticklen\":6,\"ticks\":\"inside\"},\"colorscale\":[[0,\"rgb(20,44,66)\"],[1,\"rgb(90,179,244)\"]],\"type\":\"surface\"}],\"table\":[{\"cells\":{\"fill\":{\"color\":\"rgb(237,237,237)\"},\"line\":{\"color\":\"white\"}},\"header\":{\"fill\":{\"color\":\"rgb(217,217,217)\"},\"line\":{\"color\":\"white\"}},\"type\":\"table\"}]},\"layout\":{\"annotationdefaults\":{\"arrowhead\":0,\"arrowwidth\":1},\"autotypenumbers\":\"strict\",\"coloraxis\":{\"colorbar\":{\"outlinewidth\":0,\"tickcolor\":\"rgb(237,237,237)\",\"ticklen\":6,\"ticks\":\"inside\"}},\"colorscale\":{\"sequential\":[[0,\"rgb(20,44,66)\"],[1,\"rgb(90,179,244)\"]],\"sequentialminus\":[[0,\"rgb(20,44,66)\"],[1,\"rgb(90,179,244)\"]]},\"colorway\":[\"#F8766D\",\"#A3A500\",\"#00BF7D\",\"#00B0F6\",\"#E76BF3\"],\"font\":{\"color\":\"rgb(51,51,51)\"},\"geo\":{\"bgcolor\":\"white\",\"lakecolor\":\"white\",\"landcolor\":\"rgb(237,237,237)\",\"showlakes\":true,\"showland\":true,\"subunitcolor\":\"white\"},\"hoverlabel\":{\"align\":\"left\"},\"hovermode\":\"closest\",\"paper_bgcolor\":\"white\",\"plot_bgcolor\":\"rgb(237,237,237)\",\"polar\":{\"angularaxis\":{\"gridcolor\":\"white\",\"linecolor\":\"white\",\"showgrid\":true,\"tickcolor\":\"rgb(51,51,51)\",\"ticks\":\"outside\"},\"bgcolor\":\"rgb(237,237,237)\",\"radialaxis\":{\"gridcolor\":\"white\",\"linecolor\":\"white\",\"showgrid\":true,\"tickcolor\":\"rgb(51,51,51)\",\"ticks\":\"outside\"}},\"scene\":{\"xaxis\":{\"backgroundcolor\":\"rgb(237,237,237)\",\"gridcolor\":\"white\",\"gridwidth\":2,\"linecolor\":\"white\",\"showbackground\":true,\"showgrid\":true,\"tickcolor\":\"rgb(51,51,51)\",\"ticks\":\"outside\",\"zerolinecolor\":\"white\"},\"yaxis\":{\"backgroundcolor\":\"rgb(237,237,237)\",\"gridcolor\":\"white\",\"gridwidth\":2,\"linecolor\":\"white\",\"showbackground\":true,\"showgrid\":true,\"tickcolor\":\"rgb(51,51,51)\",\"ticks\":\"outside\",\"zerolinecolor\":\"white\"},\"zaxis\":{\"backgroundcolor\":\"rgb(237,237,237)\",\"gridcolor\":\"white\",\"gridwidth\":2,\"linecolor\":\"white\",\"showbackground\":true,\"showgrid\":true,\"tickcolor\":\"rgb(51,51,51)\",\"ticks\":\"outside\",\"zerolinecolor\":\"white\"}},\"shapedefaults\":{\"fillcolor\":\"black\",\"line\":{\"width\":0},\"opacity\":0.3},\"ternary\":{\"aaxis\":{\"gridcolor\":\"white\",\"linecolor\":\"white\",\"showgrid\":true,\"tickcolor\":\"rgb(51,51,51)\",\"ticks\":\"outside\"},\"baxis\":{\"gridcolor\":\"white\",\"linecolor\":\"white\",\"showgrid\":true,\"tickcolor\":\"rgb(51,51,51)\",\"ticks\":\"outside\"},\"bgcolor\":\"rgb(237,237,237)\",\"caxis\":{\"gridcolor\":\"white\",\"linecolor\":\"white\",\"showgrid\":true,\"tickcolor\":\"rgb(51,51,51)\",\"ticks\":\"outside\"}},\"xaxis\":{\"automargin\":true,\"gridcolor\":\"white\",\"linecolor\":\"white\",\"showgrid\":true,\"tickcolor\":\"rgb(51,51,51)\",\"ticks\":\"outside\",\"title\":{\"standoff\":15},\"zerolinecolor\":\"white\"},\"yaxis\":{\"automargin\":true,\"gridcolor\":\"white\",\"linecolor\":\"white\",\"showgrid\":true,\"tickcolor\":\"rgb(51,51,51)\",\"ticks\":\"outside\",\"title\":{\"standoff\":15},\"zerolinecolor\":\"white\"}}},\"xaxis\":{\"anchor\":\"y\",\"domain\":[0.0,1.0],\"title\":{\"text\":\"Proportion\"}},\"yaxis\":{\"anchor\":\"x\",\"domain\":[0.0,1.0],\"title\":{\"text\":\"\"},\"categoryorder\":\"category descending\"},\"legend\":{\"title\":{\"text\":\"Income\"},\"tracegroupgap\":0,\"orientation\":\"h\",\"yanchor\":\"bottom\",\"y\":-0.5,\"xanchor\":\"right\",\"x\":1.0},\"margin\":{\"t\":60},\"barmode\":\"relative\",\"title\":{\"text\":\"Income Distribution by religious group \\u003cbr\\u003e\\u003csup\\u003eData Source: Pew Research Center, Religious Lansdcape Study\\u003c\\u002fsup\\u003e\",\"x\":0.5},\"font\":{\"family\":\"Times New Roman, monospace\",\"size\":16,\"color\":\"Darkblue\"},\"autosize\":false,\"width\":1000,\"height\":800},                        {\"responsive\": true}                    ).then(function(){\n",
       "                            \n",
       "var gd = document.getElementById('a4aa109a-bf0a-4b5d-94e7-e083d7bceac0');\n",
       "var x = new MutationObserver(function (mutations, observer) {{\n",
       "        var display = window.getComputedStyle(gd).display;\n",
       "        if (!display || display === 'none') {{\n",
       "            console.log([gd, 'removed!']);\n",
       "            Plotly.purge(gd);\n",
       "            observer.disconnect();\n",
       "        }}\n",
       "}});\n",
       "\n",
       "// Listen for the removal of the full notebook cells\n",
       "var notebookContainer = gd.closest('#notebook-container');\n",
       "if (notebookContainer) {{\n",
       "    x.observe(notebookContainer, {childList: true});\n",
       "}}\n",
       "\n",
       "// Listen for the clearing of the current output cell\n",
       "var outputEl = gd.closest('.output');\n",
       "if (outputEl) {{\n",
       "    x.observe(outputEl, {childList: true});\n",
       "}}\n",
       "\n",
       "                        })                };                });            </script>        </div>"
      ]
     },
     "metadata": {},
     "output_type": "display_data"
    }
   ],
   "source": [
    "\n",
    "fig = px.bar(DF_new,\n",
    "             y='religion',\n",
    "             x='proportion',\n",
    "             color='income',\n",
    "             color_discrete_sequence=px.colors.qualitative.Pastel,\n",
    "             category_orders={'income' : ['Less than 30,000', '30,000-49,999', '50,000-99,999', '100,000 or more']},\n",
    "             pattern_shape = 'income')\n",
    "\n",
    "fig.update_layout(template=\"ggplot2\",\n",
    "                  title='Income Distribution by religious group <br><sup>Data Source: Pew Research Center, Religious Lansdcape Study</sup>',\n",
    "                  title_x=0.5,\n",
    "                  yaxis={'categoryorder': 'category descending'},\n",
    "                  xaxis_title=\"Proportion\",\n",
    "                  yaxis_title=\"\",\n",
    "                  legend_title='Income',\n",
    "                  legend={'orientation':\"h\",'yanchor':\"bottom\",'y':-0.5, 'xanchor':\"right\",'x':1.0},\n",
    "                  font={'family':\"Times New Roman, monospace\",'size':16,'color':\"Darkblue\"},\n",
    "                  autosize=False,\n",
    "                  width=1000,\n",
    "                  height=800)\n",
    "\n",
    "fig.show()"
   ]
  },
  {
   "cell_type": "code",
   "execution_count": null,
   "id": "084716d3-1077-4f08-97fc-acc4bc75ebec",
   "metadata": {},
   "outputs": [],
   "source": []
  },
  {
   "cell_type": "markdown",
   "id": "9a340259-ea38-4364-ac54-7a55bbaf512f",
   "metadata": {},
   "source": [
    "## Exercise 2\n",
    "\n",
    "In this exercise we are going to import some very messy data and see how we can Recode, Tidy, and Pivot the data!\n",
    "\n",
    "### 1. Import the data from the file: file_name = 'data/sales.xlsx'\n",
    "\n",
    "Look at the DataFrame, the data is not in a great format. Why is this data not tidy? List a few reasons that this data has problems.\n"
   ]
  },
  {
   "cell_type": "code",
   "execution_count": 149,
   "id": "4ac5da4e-a24d-4676-ae31-5343a0c886a7",
   "metadata": {},
   "outputs": [
    {
     "data": {
      "text/html": [
       "<div>\n",
       "<style scoped>\n",
       "    .dataframe tbody tr th:only-of-type {\n",
       "        vertical-align: middle;\n",
       "    }\n",
       "\n",
       "    .dataframe tbody tr th {\n",
       "        vertical-align: top;\n",
       "    }\n",
       "\n",
       "    .dataframe thead th {\n",
       "        text-align: right;\n",
       "    }\n",
       "</style>\n",
       "<table border=\"1\" class=\"dataframe\">\n",
       "  <thead>\n",
       "    <tr style=\"text-align: right;\">\n",
       "      <th></th>\n",
       "      <th>This file contains information on sales.</th>\n",
       "      <th>Unnamed: 1</th>\n",
       "    </tr>\n",
       "  </thead>\n",
       "  <tbody>\n",
       "    <tr>\n",
       "      <th>0</th>\n",
       "      <td>Data are organized by brand name, and for each...</td>\n",
       "      <td>NaN</td>\n",
       "    </tr>\n",
       "    <tr>\n",
       "      <th>1</th>\n",
       "      <td>NaN</td>\n",
       "      <td>NaN</td>\n",
       "    </tr>\n",
       "    <tr>\n",
       "      <th>2</th>\n",
       "      <td>NaN</td>\n",
       "      <td>NaN</td>\n",
       "    </tr>\n",
       "    <tr>\n",
       "      <th>3</th>\n",
       "      <td>Brand 1</td>\n",
       "      <td>n</td>\n",
       "    </tr>\n",
       "    <tr>\n",
       "      <th>4</th>\n",
       "      <td>1234</td>\n",
       "      <td>8</td>\n",
       "    </tr>\n",
       "    <tr>\n",
       "      <th>5</th>\n",
       "      <td>8721</td>\n",
       "      <td>2</td>\n",
       "    </tr>\n",
       "    <tr>\n",
       "      <th>6</th>\n",
       "      <td>1822</td>\n",
       "      <td>3</td>\n",
       "    </tr>\n",
       "    <tr>\n",
       "      <th>7</th>\n",
       "      <td>Brand 2</td>\n",
       "      <td>n</td>\n",
       "    </tr>\n",
       "    <tr>\n",
       "      <th>8</th>\n",
       "      <td>3333</td>\n",
       "      <td>1</td>\n",
       "    </tr>\n",
       "    <tr>\n",
       "      <th>9</th>\n",
       "      <td>2156</td>\n",
       "      <td>3</td>\n",
       "    </tr>\n",
       "    <tr>\n",
       "      <th>10</th>\n",
       "      <td>3987</td>\n",
       "      <td>6</td>\n",
       "    </tr>\n",
       "    <tr>\n",
       "      <th>11</th>\n",
       "      <td>3216</td>\n",
       "      <td>5</td>\n",
       "    </tr>\n",
       "  </tbody>\n",
       "</table>\n",
       "</div>"
      ],
      "text/plain": [
       "             This file contains information on sales. Unnamed: 1\n",
       "0   Data are organized by brand name, and for each...        NaN\n",
       "1                                                 NaN        NaN\n",
       "2                                                 NaN        NaN\n",
       "3                                             Brand 1          n\n",
       "4                                                1234          8\n",
       "5                                                8721          2\n",
       "6                                                1822          3\n",
       "7                                             Brand 2          n\n",
       "8                                                3333          1\n",
       "9                                                2156          3\n",
       "10                                               3987          6\n",
       "11                                               3216          5"
      ]
     },
     "execution_count": 149,
     "metadata": {},
     "output_type": "execute_result"
    }
   ],
   "source": [
    "# Your code here\n",
    "file_name = 'data/sales.xlsx'\n",
    "DF = pd.read_excel(file_name)\n",
    "DF"
   ]
  },
  {
   "cell_type": "markdown",
   "id": "5c439b62-1852-42b5-8d99-d3469aad5303",
   "metadata": {},
   "source": [
    "**(Click Here to answer questions)**\n",
    "The data has prooblems b ecause it has NaN values, in files it has numbers to identify as well as Brand followed by number identifier. We also have a whole column called unaamed, that even still has carry over NaN's."
   ]
  },
  {
   "cell_type": "markdown",
   "id": "6ee7c7dc-66a2-4cd0-b1f3-de813daeee22",
   "metadata": {},
   "source": [
    "This is what you should see:\n",
    "\n",
    "![DataFrame1](images/DF1.png)\n",
    "\n",
    "\n",
    "### 2. Now we need to fix this data - when we read this in there are some weird things happening.\n",
    "\n",
    "Open the .sales.xlsx file and look in there. Notice that there are two weird rows at the top. \n",
    "\n",
    "How can we read the data in and skip some rows? Try running the command below to read the documentation. Are there any commands that might help us skip the first three rows when reading in the data?\n"
   ]
  },
  {
   "cell_type": "code",
   "execution_count": 185,
   "id": "0b2da725-4823-4e2e-8636-ab7427ca38c6",
   "metadata": {},
   "outputs": [
    {
     "data": {
      "text/html": [
       "<div>\n",
       "<style scoped>\n",
       "    .dataframe tbody tr th:only-of-type {\n",
       "        vertical-align: middle;\n",
       "    }\n",
       "\n",
       "    .dataframe tbody tr th {\n",
       "        vertical-align: top;\n",
       "    }\n",
       "\n",
       "    .dataframe thead th {\n",
       "        text-align: right;\n",
       "    }\n",
       "</style>\n",
       "<table border=\"1\" class=\"dataframe\">\n",
       "  <thead>\n",
       "    <tr style=\"text-align: right;\">\n",
       "      <th></th>\n",
       "      <th>Unnamed: 0</th>\n",
       "      <th>Unnamed: 1</th>\n",
       "    </tr>\n",
       "  </thead>\n",
       "  <tbody>\n",
       "    <tr>\n",
       "      <th>0</th>\n",
       "      <td>Brand 1</td>\n",
       "      <td>n</td>\n",
       "    </tr>\n",
       "    <tr>\n",
       "      <th>1</th>\n",
       "      <td>1234</td>\n",
       "      <td>8</td>\n",
       "    </tr>\n",
       "    <tr>\n",
       "      <th>2</th>\n",
       "      <td>8721</td>\n",
       "      <td>2</td>\n",
       "    </tr>\n",
       "    <tr>\n",
       "      <th>3</th>\n",
       "      <td>1822</td>\n",
       "      <td>3</td>\n",
       "    </tr>\n",
       "    <tr>\n",
       "      <th>4</th>\n",
       "      <td>Brand 2</td>\n",
       "      <td>n</td>\n",
       "    </tr>\n",
       "    <tr>\n",
       "      <th>5</th>\n",
       "      <td>3333</td>\n",
       "      <td>1</td>\n",
       "    </tr>\n",
       "    <tr>\n",
       "      <th>6</th>\n",
       "      <td>2156</td>\n",
       "      <td>3</td>\n",
       "    </tr>\n",
       "    <tr>\n",
       "      <th>7</th>\n",
       "      <td>3987</td>\n",
       "      <td>6</td>\n",
       "    </tr>\n",
       "    <tr>\n",
       "      <th>8</th>\n",
       "      <td>3216</td>\n",
       "      <td>5</td>\n",
       "    </tr>\n",
       "  </tbody>\n",
       "</table>\n",
       "</div>"
      ],
      "text/plain": [
       "  Unnamed: 0 Unnamed: 1\n",
       "0    Brand 1          n\n",
       "1       1234          8\n",
       "2       8721          2\n",
       "3       1822          3\n",
       "4    Brand 2          n\n",
       "5       3333          1\n",
       "6       2156          3\n",
       "7       3987          6\n",
       "8       3216          5"
      ]
     },
     "execution_count": 185,
     "metadata": {},
     "output_type": "execute_result"
    }
   ],
   "source": [
    "file_name = 'data/sales.xlsx'\n",
    "DF = pd.read_excel(file_name,skiprows=3)\n",
    "DF"
   ]
  },
  {
   "cell_type": "code",
   "execution_count": null,
   "id": "66fc55dd-5456-4207-9b46-32e6661392cf",
   "metadata": {},
   "outputs": [],
   "source": []
  },
  {
   "cell_type": "markdown",
   "id": "1807b77b-2009-4f10-b05d-c20f17f13cf8",
   "metadata": {},
   "source": [
    "Try writing your own code that will read in the data, skipping three rows, so that it looks like this:\n",
    "\n",
    "![DataFrame2](images/DF2.png)\n",
    "\n"
   ]
  },
  {
   "cell_type": "markdown",
   "id": "9a3f0875-eca9-4627-a845-de7827d5503a",
   "metadata": {},
   "source": [
    "### 3. This is better, but let's rename the columns\n",
    "\n",
    "In the lecture above we learned how to rename columns. Rename the columns in this DataFrame so that 'Unnamed: 0' becomes 'id' and 'Unnamed: 1' becomes 'n'. Your DataFrame should look like\n",
    "\n",
    "![DataFrame3](images/DF3.png)\n",
    "\n"
   ]
  },
  {
   "cell_type": "code",
   "execution_count": 187,
   "id": "0a675bcd-c9ac-46d5-824e-78e0d21b3d43",
   "metadata": {},
   "outputs": [],
   "source": [
    "name_to_change = 'Unaffiliated (religious \"nones\")'\n",
    "new_name = 'Unaffiliated'\n",
    "DF_new['religion']=DF_new['religion'].replace(name_to_change,new_name)"
   ]
  },
  {
   "cell_type": "code",
   "execution_count": null,
   "id": "fb6aaecc-1969-47f1-b116-1ba5bc5b10e1",
   "metadata": {},
   "outputs": [],
   "source": []
  },
  {
   "cell_type": "code",
   "execution_count": 189,
   "id": "c5b59087-7984-4388-8a2c-83969683c0a6",
   "metadata": {},
   "outputs": [
    {
     "data": {
      "text/html": [
       "<div>\n",
       "<style scoped>\n",
       "    .dataframe tbody tr th:only-of-type {\n",
       "        vertical-align: middle;\n",
       "    }\n",
       "\n",
       "    .dataframe tbody tr th {\n",
       "        vertical-align: top;\n",
       "    }\n",
       "\n",
       "    .dataframe thead th {\n",
       "        text-align: right;\n",
       "    }\n",
       "</style>\n",
       "<table border=\"1\" class=\"dataframe\">\n",
       "  <thead>\n",
       "    <tr style=\"text-align: right;\">\n",
       "      <th></th>\n",
       "      <th>id</th>\n",
       "      <th>n</th>\n",
       "    </tr>\n",
       "  </thead>\n",
       "  <tbody>\n",
       "    <tr>\n",
       "      <th>0</th>\n",
       "      <td>Brand 1</td>\n",
       "      <td>n</td>\n",
       "    </tr>\n",
       "    <tr>\n",
       "      <th>1</th>\n",
       "      <td>1234</td>\n",
       "      <td>8</td>\n",
       "    </tr>\n",
       "    <tr>\n",
       "      <th>2</th>\n",
       "      <td>8721</td>\n",
       "      <td>2</td>\n",
       "    </tr>\n",
       "    <tr>\n",
       "      <th>3</th>\n",
       "      <td>1822</td>\n",
       "      <td>3</td>\n",
       "    </tr>\n",
       "    <tr>\n",
       "      <th>4</th>\n",
       "      <td>Brand 2</td>\n",
       "      <td>n</td>\n",
       "    </tr>\n",
       "    <tr>\n",
       "      <th>5</th>\n",
       "      <td>3333</td>\n",
       "      <td>1</td>\n",
       "    </tr>\n",
       "    <tr>\n",
       "      <th>6</th>\n",
       "      <td>2156</td>\n",
       "      <td>3</td>\n",
       "    </tr>\n",
       "    <tr>\n",
       "      <th>7</th>\n",
       "      <td>3987</td>\n",
       "      <td>6</td>\n",
       "    </tr>\n",
       "    <tr>\n",
       "      <th>8</th>\n",
       "      <td>3216</td>\n",
       "      <td>5</td>\n",
       "    </tr>\n",
       "  </tbody>\n",
       "</table>\n",
       "</div>"
      ],
      "text/plain": [
       "        id  n\n",
       "0  Brand 1  n\n",
       "1     1234  8\n",
       "2     8721  2\n",
       "3     1822  3\n",
       "4  Brand 2  n\n",
       "5     3333  1\n",
       "6     2156  3\n",
       "7     3987  6\n",
       "8     3216  5"
      ]
     },
     "execution_count": 189,
     "metadata": {},
     "output_type": "execute_result"
    }
   ],
   "source": [
    "DF.rename(columns={'Unnamed: 0':'id','Unnamed: 1':'n'},inplace=True)\n",
    "DF"
   ]
  },
  {
   "cell_type": "markdown",
   "id": "5e464859-768a-4407-9c97-16564643dd2a",
   "metadata": {},
   "source": [
    "### 4. This is better, but....\n",
    "\n",
    "This is not yet a tidy data frame. Why not?\n",
    "We still have brand information mixed in the id row."
   ]
  },
  {
   "cell_type": "markdown",
   "id": "61c0d665-e879-4cc0-a81e-c662b99f6388",
   "metadata": {},
   "source": [
    "**(Your answer here)** WE still have brand information mixed up in the id row. We want the brand, the id, and the number of sales in 3 seperate rows."
   ]
  },
  {
   "cell_type": "markdown",
   "id": "4888a9a2-66aa-488f-a3fe-e4920dc5f22a",
   "metadata": {},
   "source": [
    "\n",
    "**How do we make it tidy?**\n",
    "\n",
    "We need to manipulate the data so that we have three columns. The brand, the id, and then the number of sales, but the brand information is mixed up in the id row. We are going to use the following command:\n",
    "\n",
    "    brand_data = DF['id'].apply(lambda x: x if 'Brand' in str(x) else np.nan)\n",
    "\n",
    "Tell me what each part of this command does. For example break down each piece:\n",
    "\n",
    "a. DF['id']\n",
    "\n",
    "b. .apply()\n",
    "\n",
    "c. lambda x: x if 'Brand' in str(x) else np.nan\n",
    "\n",
    "HINT1 - here you see something new and if else statement.  \n",
    "\n",
    "- The command **'Brand' in str(x)** will check to see if the word 'Brand' is in each row. This will return True or False.\n",
    "- To test this try **DF['id'].apply(lambda x: 'Brand' in str(x))** in a separate cell.\n",
    "- The **if** statement checks to see if **'Brand' in str(x)** is True. If it is true it returns the x (original data). Otherwise it returns **np.nan**\n",
    "- **np.nan** is how we can get Not a Number."
   ]
  },
  {
   "cell_type": "markdown",
   "id": "b96df96c-966f-4690-9fde-072afac0c8b5",
   "metadata": {},
   "source": [
    "**(Your explanation of the command here)**\n",
    "DF['id'] selects this columns from the dataframe. .apply() ensures we apply the function we are about to use to each element in id. lambdax:.... uses if-else conditional statement to keep all values that are strings and returns np.nan for anything that is not a string in our column, thus replacing it with NaN."
   ]
  },
  {
   "cell_type": "code",
   "execution_count": 191,
   "id": "c1749848-4ab7-4dbe-ab6c-39a820e28d42",
   "metadata": {},
   "outputs": [
    {
     "data": {
      "text/plain": [
       "0    Brand 1\n",
       "1        NaN\n",
       "2        NaN\n",
       "3        NaN\n",
       "4    Brand 2\n",
       "5        NaN\n",
       "6        NaN\n",
       "7        NaN\n",
       "8        NaN\n",
       "Name: id, dtype: object"
      ]
     },
     "execution_count": 191,
     "metadata": {},
     "output_type": "execute_result"
    }
   ],
   "source": [
    "# Now just run the command\n",
    "brand_data = DF['id'].apply(lambda x: x if 'Brand' in str(x) else np.nan)\n",
    "brand_data"
   ]
  },
  {
   "cell_type": "markdown",
   "id": "d0e4832e-fa0a-4541-8bb6-548bc3a9eca4",
   "metadata": {},
   "source": [
    "### 5. Create a new empty column to store our brand_data\n",
    "\n",
    "You should know how to add a new column to a data frame. Use the column name 'brand'.\n"
   ]
  },
  {
   "cell_type": "code",
   "execution_count": 193,
   "id": "c8c9d26d-4307-4234-919e-9f4f7cca402c",
   "metadata": {},
   "outputs": [
    {
     "data": {
      "text/html": [
       "<div>\n",
       "<style scoped>\n",
       "    .dataframe tbody tr th:only-of-type {\n",
       "        vertical-align: middle;\n",
       "    }\n",
       "\n",
       "    .dataframe tbody tr th {\n",
       "        vertical-align: top;\n",
       "    }\n",
       "\n",
       "    .dataframe thead th {\n",
       "        text-align: right;\n",
       "    }\n",
       "</style>\n",
       "<table border=\"1\" class=\"dataframe\">\n",
       "  <thead>\n",
       "    <tr style=\"text-align: right;\">\n",
       "      <th></th>\n",
       "      <th>id</th>\n",
       "      <th>n</th>\n",
       "      <th>brand</th>\n",
       "    </tr>\n",
       "  </thead>\n",
       "  <tbody>\n",
       "    <tr>\n",
       "      <th>0</th>\n",
       "      <td>Brand 1</td>\n",
       "      <td>n</td>\n",
       "      <td>Brand 1</td>\n",
       "    </tr>\n",
       "    <tr>\n",
       "      <th>1</th>\n",
       "      <td>1234</td>\n",
       "      <td>8</td>\n",
       "      <td>NaN</td>\n",
       "    </tr>\n",
       "    <tr>\n",
       "      <th>2</th>\n",
       "      <td>8721</td>\n",
       "      <td>2</td>\n",
       "      <td>NaN</td>\n",
       "    </tr>\n",
       "    <tr>\n",
       "      <th>3</th>\n",
       "      <td>1822</td>\n",
       "      <td>3</td>\n",
       "      <td>NaN</td>\n",
       "    </tr>\n",
       "    <tr>\n",
       "      <th>4</th>\n",
       "      <td>Brand 2</td>\n",
       "      <td>n</td>\n",
       "      <td>Brand 2</td>\n",
       "    </tr>\n",
       "    <tr>\n",
       "      <th>5</th>\n",
       "      <td>3333</td>\n",
       "      <td>1</td>\n",
       "      <td>NaN</td>\n",
       "    </tr>\n",
       "    <tr>\n",
       "      <th>6</th>\n",
       "      <td>2156</td>\n",
       "      <td>3</td>\n",
       "      <td>NaN</td>\n",
       "    </tr>\n",
       "    <tr>\n",
       "      <th>7</th>\n",
       "      <td>3987</td>\n",
       "      <td>6</td>\n",
       "      <td>NaN</td>\n",
       "    </tr>\n",
       "    <tr>\n",
       "      <th>8</th>\n",
       "      <td>3216</td>\n",
       "      <td>5</td>\n",
       "      <td>NaN</td>\n",
       "    </tr>\n",
       "  </tbody>\n",
       "</table>\n",
       "</div>"
      ],
      "text/plain": [
       "        id  n    brand\n",
       "0  Brand 1  n  Brand 1\n",
       "1     1234  8      NaN\n",
       "2     8721  2      NaN\n",
       "3     1822  3      NaN\n",
       "4  Brand 2  n  Brand 2\n",
       "5     3333  1      NaN\n",
       "6     2156  3      NaN\n",
       "7     3987  6      NaN\n",
       "8     3216  5      NaN"
      ]
     },
     "execution_count": 193,
     "metadata": {},
     "output_type": "execute_result"
    }
   ],
   "source": [
    "# Your code here\n",
    "DF['brand']=brand_data\n",
    "DF"
   ]
  },
  {
   "cell_type": "markdown",
   "id": "8733dad9-1a3c-4665-915d-f0318493ca94",
   "metadata": {},
   "source": [
    "### 6. Lets fill up those NaNs with the brand information\n",
    "\n",
    "The command **.ffill()** works like magic! It goes down the column and will fill any NaNs with the information from the cells above, until it gets to another good value. Check out what this command does!\n",
    "\n",
    "```{python}\n",
    "DF=DF.ffill()\n",
    "```\n",
    "\n",
    "Your data frame should look like\n",
    "\n",
    "![DataFrame4](images/DF4.png)"
   ]
  },
  {
   "cell_type": "code",
   "execution_count": 195,
   "id": "5f6e53aa-f13a-4399-b678-5482ba12c3d8",
   "metadata": {},
   "outputs": [
    {
     "data": {
      "text/html": [
       "<div>\n",
       "<style scoped>\n",
       "    .dataframe tbody tr th:only-of-type {\n",
       "        vertical-align: middle;\n",
       "    }\n",
       "\n",
       "    .dataframe tbody tr th {\n",
       "        vertical-align: top;\n",
       "    }\n",
       "\n",
       "    .dataframe thead th {\n",
       "        text-align: right;\n",
       "    }\n",
       "</style>\n",
       "<table border=\"1\" class=\"dataframe\">\n",
       "  <thead>\n",
       "    <tr style=\"text-align: right;\">\n",
       "      <th></th>\n",
       "      <th>id</th>\n",
       "      <th>n</th>\n",
       "      <th>brand</th>\n",
       "    </tr>\n",
       "  </thead>\n",
       "  <tbody>\n",
       "    <tr>\n",
       "      <th>0</th>\n",
       "      <td>Brand 1</td>\n",
       "      <td>n</td>\n",
       "      <td>Brand 1</td>\n",
       "    </tr>\n",
       "    <tr>\n",
       "      <th>1</th>\n",
       "      <td>1234</td>\n",
       "      <td>8</td>\n",
       "      <td>Brand 1</td>\n",
       "    </tr>\n",
       "    <tr>\n",
       "      <th>2</th>\n",
       "      <td>8721</td>\n",
       "      <td>2</td>\n",
       "      <td>Brand 1</td>\n",
       "    </tr>\n",
       "    <tr>\n",
       "      <th>3</th>\n",
       "      <td>1822</td>\n",
       "      <td>3</td>\n",
       "      <td>Brand 1</td>\n",
       "    </tr>\n",
       "    <tr>\n",
       "      <th>4</th>\n",
       "      <td>Brand 2</td>\n",
       "      <td>n</td>\n",
       "      <td>Brand 2</td>\n",
       "    </tr>\n",
       "    <tr>\n",
       "      <th>5</th>\n",
       "      <td>3333</td>\n",
       "      <td>1</td>\n",
       "      <td>Brand 2</td>\n",
       "    </tr>\n",
       "    <tr>\n",
       "      <th>6</th>\n",
       "      <td>2156</td>\n",
       "      <td>3</td>\n",
       "      <td>Brand 2</td>\n",
       "    </tr>\n",
       "    <tr>\n",
       "      <th>7</th>\n",
       "      <td>3987</td>\n",
       "      <td>6</td>\n",
       "      <td>Brand 2</td>\n",
       "    </tr>\n",
       "    <tr>\n",
       "      <th>8</th>\n",
       "      <td>3216</td>\n",
       "      <td>5</td>\n",
       "      <td>Brand 2</td>\n",
       "    </tr>\n",
       "  </tbody>\n",
       "</table>\n",
       "</div>"
      ],
      "text/plain": [
       "        id  n    brand\n",
       "0  Brand 1  n  Brand 1\n",
       "1     1234  8  Brand 1\n",
       "2     8721  2  Brand 1\n",
       "3     1822  3  Brand 1\n",
       "4  Brand 2  n  Brand 2\n",
       "5     3333  1  Brand 2\n",
       "6     2156  3  Brand 2\n",
       "7     3987  6  Brand 2\n",
       "8     3216  5  Brand 2"
      ]
     },
     "execution_count": 195,
     "metadata": {},
     "output_type": "execute_result"
    }
   ],
   "source": [
    "# Your code here (copy and paste)\n",
    "DF=DF.ffill()\n",
    "DF"
   ]
  },
  {
   "cell_type": "markdown",
   "id": "be66ba29-f820-4f74-a6c4-78f4cea683fc",
   "metadata": {},
   "source": [
    "### 7. Finally mask out the rows that have bad 'id'\n",
    "\n",
    "Create a mask using \n",
    "\n",
    "    mask = DF['id'].apply(lambda x:'Brand' not in str(x) )\n",
    "\n",
    "then apply that mask to get\n",
    "\n",
    "![DataFrame5](images/DF5.png)"
   ]
  },
  {
   "cell_type": "code",
   "execution_count": 197,
   "id": "73a7efcb-2076-42fd-9dc5-c2046ef3480e",
   "metadata": {},
   "outputs": [
    {
     "data": {
      "text/html": [
       "<div>\n",
       "<style scoped>\n",
       "    .dataframe tbody tr th:only-of-type {\n",
       "        vertical-align: middle;\n",
       "    }\n",
       "\n",
       "    .dataframe tbody tr th {\n",
       "        vertical-align: top;\n",
       "    }\n",
       "\n",
       "    .dataframe thead th {\n",
       "        text-align: right;\n",
       "    }\n",
       "</style>\n",
       "<table border=\"1\" class=\"dataframe\">\n",
       "  <thead>\n",
       "    <tr style=\"text-align: right;\">\n",
       "      <th></th>\n",
       "      <th>id</th>\n",
       "      <th>n</th>\n",
       "      <th>brand</th>\n",
       "    </tr>\n",
       "  </thead>\n",
       "  <tbody>\n",
       "    <tr>\n",
       "      <th>1</th>\n",
       "      <td>1234</td>\n",
       "      <td>8</td>\n",
       "      <td>Brand 1</td>\n",
       "    </tr>\n",
       "    <tr>\n",
       "      <th>2</th>\n",
       "      <td>8721</td>\n",
       "      <td>2</td>\n",
       "      <td>Brand 1</td>\n",
       "    </tr>\n",
       "    <tr>\n",
       "      <th>3</th>\n",
       "      <td>1822</td>\n",
       "      <td>3</td>\n",
       "      <td>Brand 1</td>\n",
       "    </tr>\n",
       "    <tr>\n",
       "      <th>5</th>\n",
       "      <td>3333</td>\n",
       "      <td>1</td>\n",
       "      <td>Brand 2</td>\n",
       "    </tr>\n",
       "    <tr>\n",
       "      <th>6</th>\n",
       "      <td>2156</td>\n",
       "      <td>3</td>\n",
       "      <td>Brand 2</td>\n",
       "    </tr>\n",
       "    <tr>\n",
       "      <th>7</th>\n",
       "      <td>3987</td>\n",
       "      <td>6</td>\n",
       "      <td>Brand 2</td>\n",
       "    </tr>\n",
       "    <tr>\n",
       "      <th>8</th>\n",
       "      <td>3216</td>\n",
       "      <td>5</td>\n",
       "      <td>Brand 2</td>\n",
       "    </tr>\n",
       "  </tbody>\n",
       "</table>\n",
       "</div>"
      ],
      "text/plain": [
       "     id  n    brand\n",
       "1  1234  8  Brand 1\n",
       "2  8721  2  Brand 1\n",
       "3  1822  3  Brand 1\n",
       "5  3333  1  Brand 2\n",
       "6  2156  3  Brand 2\n",
       "7  3987  6  Brand 2\n",
       "8  3216  5  Brand 2"
      ]
     },
     "execution_count": 197,
     "metadata": {},
     "output_type": "execute_result"
    }
   ],
   "source": [
    "# Your code here\n",
    "mask=DF['id'].apply(lambda x:'Brand' not in str(x))\n",
    "DF=DF[mask]\n",
    "DF"
   ]
  },
  {
   "cell_type": "markdown",
   "id": "b8c05142-566f-43a2-ba14-d663f9964dff",
   "metadata": {},
   "source": [
    "### 7. Now lets pivot!!\n",
    "\n",
    "Try out the **.pivot()** command. See if you can create a DataFrame that looks like this:\n",
    "\n",
    "![DataFrame6](images/DF6.png)\n",
    "\n",
    "    DF_new.pivot(index=???, columns=???,values=???)\n",
    "\n",
    "\n",
    "This is hard! The lecture notes have hints and answers!"
   ]
  },
  {
   "cell_type": "code",
   "execution_count": null,
   "id": "7f853695-1b82-4834-8ad6-40d7455d73d8",
   "metadata": {},
   "outputs": [],
   "source": [
    "# Your code here"
   ]
  },
  {
   "cell_type": "code",
   "execution_count": 199,
   "id": "3e6eb62d-6d45-4d18-860d-93fb3170eafc",
   "metadata": {},
   "outputs": [
    {
     "name": "stderr",
     "output_type": "stream",
     "text": [
      "/var/folders/0k/qf8thsfd2fz4_lx17241xz9h0000gn/T/ipykernel_4876/2208596990.py:1: FutureWarning:\n",
      "\n",
      "Downcasting object dtype arrays on .fillna, .ffill, .bfill is deprecated and will change in a future version. Call result.infer_objects(copy=False) instead. To opt-in to the future behavior, set `pd.set_option('future.no_silent_downcasting', True)`\n",
      "\n"
     ]
    },
    {
     "data": {
      "text/html": [
       "<div>\n",
       "<style scoped>\n",
       "    .dataframe tbody tr th:only-of-type {\n",
       "        vertical-align: middle;\n",
       "    }\n",
       "\n",
       "    .dataframe tbody tr th {\n",
       "        vertical-align: top;\n",
       "    }\n",
       "\n",
       "    .dataframe thead th {\n",
       "        text-align: right;\n",
       "    }\n",
       "</style>\n",
       "<table border=\"1\" class=\"dataframe\">\n",
       "  <thead>\n",
       "    <tr style=\"text-align: right;\">\n",
       "      <th>brand</th>\n",
       "      <th>Brand 1</th>\n",
       "      <th>Brand 2</th>\n",
       "    </tr>\n",
       "    <tr>\n",
       "      <th>id</th>\n",
       "      <th></th>\n",
       "      <th></th>\n",
       "    </tr>\n",
       "  </thead>\n",
       "  <tbody>\n",
       "    <tr>\n",
       "      <th>1234</th>\n",
       "      <td>8</td>\n",
       "      <td>0</td>\n",
       "    </tr>\n",
       "    <tr>\n",
       "      <th>1822</th>\n",
       "      <td>3</td>\n",
       "      <td>0</td>\n",
       "    </tr>\n",
       "    <tr>\n",
       "      <th>2156</th>\n",
       "      <td>0</td>\n",
       "      <td>3</td>\n",
       "    </tr>\n",
       "    <tr>\n",
       "      <th>3216</th>\n",
       "      <td>0</td>\n",
       "      <td>5</td>\n",
       "    </tr>\n",
       "    <tr>\n",
       "      <th>3333</th>\n",
       "      <td>0</td>\n",
       "      <td>1</td>\n",
       "    </tr>\n",
       "    <tr>\n",
       "      <th>3987</th>\n",
       "      <td>0</td>\n",
       "      <td>6</td>\n",
       "    </tr>\n",
       "    <tr>\n",
       "      <th>8721</th>\n",
       "      <td>2</td>\n",
       "      <td>0</td>\n",
       "    </tr>\n",
       "  </tbody>\n",
       "</table>\n",
       "</div>"
      ],
      "text/plain": [
       "brand  Brand 1  Brand 2\n",
       "id                     \n",
       "1234         8        0\n",
       "1822         3        0\n",
       "2156         0        3\n",
       "3216         0        5\n",
       "3333         0        1\n",
       "3987         0        6\n",
       "8721         2        0"
      ]
     },
     "execution_count": 199,
     "metadata": {},
     "output_type": "execute_result"
    }
   ],
   "source": [
    "DF2=DF.pivot(index='id', columns='brand', values='n').fillna(0)\n",
    "DF2"
   ]
  },
  {
   "cell_type": "code",
   "execution_count": null,
   "id": "dac822d2-79f5-495e-889b-1f444f61fc7f",
   "metadata": {},
   "outputs": [],
   "source": []
  }
 ],
 "metadata": {
  "kernelspec": {
   "display_name": "Python 3 (ipykernel)",
   "language": "python",
   "name": "python3"
  },
  "language_info": {
   "codemirror_mode": {
    "name": "ipython",
    "version": 3
   },
   "file_extension": ".py",
   "mimetype": "text/x-python",
   "name": "python",
   "nbconvert_exporter": "python",
   "pygments_lexer": "ipython3",
   "version": "3.12.2"
  }
 },
 "nbformat": 4,
 "nbformat_minor": 5
}
